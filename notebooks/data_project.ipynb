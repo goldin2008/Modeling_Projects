{
 "cells": [
  {
   "cell_type": "markdown",
   "metadata": {},
   "source": [
    "This notebook is a submission to Capital One Data scientist interview project. \n",
    "- the previous run results are shown. You do not need to run the notebook to see results (suggested)\n",
    "- You can click on \"cell-> run all\" to run by yourself. it takes about 10 minutes. "
   ]
  },
  {
   "cell_type": "markdown",
   "metadata": {},
   "source": [
    "## Question 1: Load\n",
    "Programmatically download and load into your favorite analytical tool the transactions data. This data, which is in line-delimited JSON format, can be found at https://github.com/CapitalOneRecruiting/DS"
   ]
  },
  {
   "cell_type": "code",
   "execution_count": 5,
   "metadata": {},
   "outputs": [],
   "source": [
    "# !pip3 install pandas"
   ]
  },
  {
   "cell_type": "code",
   "execution_count": 6,
   "metadata": {},
   "outputs": [
    {
     "name": "stdout",
     "output_type": "stream",
     "text": [
      "Collecting requests\n",
      "\u001b[?25l  Downloading https://files.pythonhosted.org/packages/51/bd/23c926cd341ea6b7dd0b2a00aba99ae0f828be89d72b2190f27c11d4b7fb/requests-2.22.0-py2.py3-none-any.whl (57kB)\n",
      "\u001b[K     |████████████████████████████████| 61kB 2.8MB/s eta 0:00:01\n",
      "\u001b[?25hCollecting chardet<3.1.0,>=3.0.2 (from requests)\n",
      "\u001b[?25l  Downloading https://files.pythonhosted.org/packages/bc/a9/01ffebfb562e4274b6487b4bb1ddec7ca55ec7510b22e4c51f14098443b8/chardet-3.0.4-py2.py3-none-any.whl (133kB)\n",
      "\u001b[K     |████████████████████████████████| 143kB 9.7MB/s eta 0:00:01\n",
      "\u001b[?25hRequirement already satisfied: certifi>=2017.4.17 in /Users/yuleinku/anaconda/envs/sagemaker/lib/python3.6/site-packages (from requests) (2019.6.16)\n",
      "Collecting idna<2.9,>=2.5 (from requests)\n",
      "\u001b[?25l  Downloading https://files.pythonhosted.org/packages/14/2c/cd551d81dbe15200be1cf41cd03869a46fe7226e7450af7a6545bfc474c9/idna-2.8-py2.py3-none-any.whl (58kB)\n",
      "\u001b[K     |████████████████████████████████| 61kB 18.9MB/s eta 0:00:01\n",
      "\u001b[?25hCollecting urllib3!=1.25.0,!=1.25.1,<1.26,>=1.21.1 (from requests)\n",
      "\u001b[?25l  Downloading https://files.pythonhosted.org/packages/e6/60/247f23a7121ae632d62811ba7f273d0e58972d75e58a94d329d51550a47d/urllib3-1.25.3-py2.py3-none-any.whl (150kB)\n",
      "\u001b[K     |████████████████████████████████| 153kB 14.6MB/s eta 0:00:01\n",
      "\u001b[?25hInstalling collected packages: chardet, idna, urllib3, requests\n",
      "Successfully installed chardet-3.0.4 idna-2.8 requests-2.22.0 urllib3-1.25.3\n"
     ]
    }
   ],
   "source": [
    "!pip install requests"
   ]
  },
  {
   "cell_type": "code",
   "execution_count": null,
   "metadata": {},
   "outputs": [],
   "source": []
  },
  {
   "cell_type": "code",
   "execution_count": 3,
   "metadata": {},
   "outputs": [],
   "source": [
    "# import requests, zipfile, io,json\n",
    "\n",
    "# with zipfile.ZipFile('transactions.zip', 'r') as myzip:\n",
    "#     myzip.write('eggs.txt')"
   ]
  },
  {
   "cell_type": "code",
   "execution_count": 8,
   "metadata": {},
   "outputs": [
    {
     "ename": "BadZipFile",
     "evalue": "File is not a zip file",
     "output_type": "error",
     "traceback": [
      "\u001b[0;31m---------------------------------------------------------------------------\u001b[0m",
      "\u001b[0;31mBadZipFile\u001b[0m                                Traceback (most recent call last)",
      "\u001b[0;32m<timed exec>\u001b[0m in \u001b[0;36m<module>\u001b[0;34m\u001b[0m\n",
      "\u001b[0;32m~/anaconda/envs/sagemaker/lib/python3.6/zipfile.py\u001b[0m in \u001b[0;36m__init__\u001b[0;34m(self, file, mode, compression, allowZip64)\u001b[0m\n\u001b[1;32m   1129\u001b[0m         \u001b[0;32mtry\u001b[0m\u001b[0;34m:\u001b[0m\u001b[0;34m\u001b[0m\u001b[0;34m\u001b[0m\u001b[0m\n\u001b[1;32m   1130\u001b[0m             \u001b[0;32mif\u001b[0m \u001b[0mmode\u001b[0m \u001b[0;34m==\u001b[0m \u001b[0;34m'r'\u001b[0m\u001b[0;34m:\u001b[0m\u001b[0;34m\u001b[0m\u001b[0;34m\u001b[0m\u001b[0m\n\u001b[0;32m-> 1131\u001b[0;31m                 \u001b[0mself\u001b[0m\u001b[0;34m.\u001b[0m\u001b[0m_RealGetContents\u001b[0m\u001b[0;34m(\u001b[0m\u001b[0;34m)\u001b[0m\u001b[0;34m\u001b[0m\u001b[0;34m\u001b[0m\u001b[0m\n\u001b[0m\u001b[1;32m   1132\u001b[0m             \u001b[0;32melif\u001b[0m \u001b[0mmode\u001b[0m \u001b[0;32min\u001b[0m \u001b[0;34m(\u001b[0m\u001b[0;34m'w'\u001b[0m\u001b[0;34m,\u001b[0m \u001b[0;34m'x'\u001b[0m\u001b[0;34m)\u001b[0m\u001b[0;34m:\u001b[0m\u001b[0;34m\u001b[0m\u001b[0;34m\u001b[0m\u001b[0m\n\u001b[1;32m   1133\u001b[0m                 \u001b[0;31m# set the modified flag so central directory gets written\u001b[0m\u001b[0;34m\u001b[0m\u001b[0;34m\u001b[0m\u001b[0;34m\u001b[0m\u001b[0m\n",
      "\u001b[0;32m~/anaconda/envs/sagemaker/lib/python3.6/zipfile.py\u001b[0m in \u001b[0;36m_RealGetContents\u001b[0;34m(self)\u001b[0m\n\u001b[1;32m   1196\u001b[0m             \u001b[0;32mraise\u001b[0m \u001b[0mBadZipFile\u001b[0m\u001b[0;34m(\u001b[0m\u001b[0;34m\"File is not a zip file\"\u001b[0m\u001b[0;34m)\u001b[0m\u001b[0;34m\u001b[0m\u001b[0;34m\u001b[0m\u001b[0m\n\u001b[1;32m   1197\u001b[0m         \u001b[0;32mif\u001b[0m \u001b[0;32mnot\u001b[0m \u001b[0mendrec\u001b[0m\u001b[0;34m:\u001b[0m\u001b[0;34m\u001b[0m\u001b[0;34m\u001b[0m\u001b[0m\n\u001b[0;32m-> 1198\u001b[0;31m             \u001b[0;32mraise\u001b[0m \u001b[0mBadZipFile\u001b[0m\u001b[0;34m(\u001b[0m\u001b[0;34m\"File is not a zip file\"\u001b[0m\u001b[0;34m)\u001b[0m\u001b[0;34m\u001b[0m\u001b[0;34m\u001b[0m\u001b[0m\n\u001b[0m\u001b[1;32m   1199\u001b[0m         \u001b[0;32mif\u001b[0m \u001b[0mself\u001b[0m\u001b[0;34m.\u001b[0m\u001b[0mdebug\u001b[0m \u001b[0;34m>\u001b[0m \u001b[0;36m1\u001b[0m\u001b[0;34m:\u001b[0m\u001b[0;34m\u001b[0m\u001b[0;34m\u001b[0m\u001b[0m\n\u001b[1;32m   1200\u001b[0m             \u001b[0mprint\u001b[0m\u001b[0;34m(\u001b[0m\u001b[0mendrec\u001b[0m\u001b[0;34m)\u001b[0m\u001b[0;34m\u001b[0m\u001b[0;34m\u001b[0m\u001b[0m\n",
      "\u001b[0;31mBadZipFile\u001b[0m: File is not a zip file"
     ]
    }
   ],
   "source": [
    "%%time\n",
    "import requests, zipfile, io,json\n",
    "import pandas as pd\n",
    "import numpy as np\n",
    "path = 'https://github.com/CapitalOneRecruiting/DS/blob/master/transactions.zip'\n",
    "r = requests.get(path)\n",
    "with zipfile.ZipFile(io.BytesIO(r.content)) as myzip:\n",
    "    with myzip.open('transactions.txt') as myfile:\n",
    "        print(myfile.read())\n",
    "        df = pd.DataFrame([json.loads(line) for line in myfile])"
   ]
  },
  {
   "cell_type": "code",
   "execution_count": 26,
   "metadata": {},
   "outputs": [
    {
     "ename": "NameError",
     "evalue": "name 'df' is not defined",
     "output_type": "error",
     "traceback": [
      "\u001b[0;31m---------------------------------------------------------------------------\u001b[0m",
      "\u001b[0;31mNameError\u001b[0m                                 Traceback (most recent call last)",
      "\u001b[0;32m<ipython-input-26-2569c44faf66>\u001b[0m in \u001b[0;36m<module>\u001b[0;34m()\u001b[0m\n\u001b[0;32m----> 1\u001b[0;31m \u001b[0mdf\u001b[0m\u001b[0;34m.\u001b[0m\u001b[0mhead\u001b[0m\u001b[0;34m(\u001b[0m\u001b[0;34m)\u001b[0m\u001b[0;34m\u001b[0m\u001b[0m\n\u001b[0m",
      "\u001b[0;31mNameError\u001b[0m: name 'df' is not defined"
     ]
    }
   ],
   "source": [
    "df.head()"
   ]
  },
  {
   "cell_type": "code",
   "execution_count": 2,
   "metadata": {},
   "outputs": [
    {
     "name": "stdout",
     "output_type": "stream",
     "text": [
      "/Users/yuleinku/Desktop/project\n"
     ]
    }
   ],
   "source": [
    "!pwd"
   ]
  },
  {
   "cell_type": "code",
   "execution_count": 2,
   "metadata": {
    "collapsed": true,
    "jupyter": {
     "outputs_hidden": true
    }
   },
   "outputs": [],
   "source": [
    "import requests\n",
    "import io\n",
    "import zipfile\n",
    "def download_extract_zip(url):\n",
    "    \"\"\"\n",
    "    Download a ZIP file and extract its contents in memory\n",
    "    yields (filename, file-like object) pairs\n",
    "    \"\"\"\n",
    "    response = requests.get(url)\n",
    "    print('Good')\n",
    "    with zipfile.ZipFile(io.BytesIO(response.content)) as thezip:\n",
    "#         print(thezip)\n",
    "#         for zipinfo in thezip.infolist():\n",
    "#             with thezip.open(zipinfo) as thefile:\n",
    "#                 yield zipinfo.filename, thefile\n",
    "        with thezip.open('transactions.txt') as thefile:\n",
    "            yield zipinfo.filename, thefile"
   ]
  },
  {
   "cell_type": "code",
   "execution_count": 7,
   "metadata": {},
   "outputs": [
    {
     "data": {
      "text/plain": [
       "<generator object download_extract_zip at 0x7ff0c828f888>"
      ]
     },
     "execution_count": 7,
     "metadata": {},
     "output_type": "execute_result"
    }
   ],
   "source": [
    "url = 'https://github.com/CapitalOneRecruiting/DS/blob/master/transactions.zip'\n",
    "\n",
    "download_extract_zip(path)"
   ]
  },
  {
   "cell_type": "code",
   "execution_count": 8,
   "metadata": {},
   "outputs": [
    {
     "name": "stdout",
     "output_type": "stream",
     "text": [
      "/Users/yuleinku/Desktop/project\n"
     ]
    }
   ],
   "source": [
    "!pwd"
   ]
  },
  {
   "cell_type": "code",
   "execution_count": 10,
   "metadata": {
    "collapsed": true,
    "jupyter": {
     "outputs_hidden": true
    }
   },
   "outputs": [],
   "source": [
    "# downloading with requests\n",
    " \n",
    "# import the requests library\n",
    "import requests\n",
    " \n",
    " \n",
    "# download the file contents in binary format\n",
    "r = requests.get(url)\n",
    " \n",
    "# open method to open a file on your system and write the contents\n",
    "with open(\"a.txt\", \"wb\") as code:\n",
    "    code.write(r.content)"
   ]
  },
  {
   "cell_type": "markdown",
   "metadata": {},
   "source": [
    "### Q1A. Please describe the structure of the data. Number of records and fields in each record?"
   ]
  },
  {
   "cell_type": "markdown",
   "metadata": {},
   "source": [
    "the data is in a txt file, each row contains information on one transaction in json format (similar to python dictionary key-value pair)"
   ]
  },
  {
   "cell_type": "code",
   "execution_count": 2,
   "metadata": {},
   "outputs": [
    {
     "name": "stdout",
     "output_type": "stream",
     "text": [
      "There are  641914 number of records and there are   29 fields in each record\n"
     ]
    }
   ],
   "source": [
    "print('There are %7d number of records and there are %4d fields in each record' % (df.shape[0], df.shape[1]))"
   ]
  },
  {
   "cell_type": "markdown",
   "metadata": {},
   "source": [
    "take a glimpse on the data"
   ]
  },
  {
   "cell_type": "code",
   "execution_count": 3,
   "metadata": {},
   "outputs": [
    {
     "data": {
      "text/html": [
       "<div>\n",
       "<style scoped>\n",
       "    .dataframe tbody tr th:only-of-type {\n",
       "        vertical-align: middle;\n",
       "    }\n",
       "\n",
       "    .dataframe tbody tr th {\n",
       "        vertical-align: top;\n",
       "    }\n",
       "\n",
       "    .dataframe thead th {\n",
       "        text-align: right;\n",
       "    }\n",
       "</style>\n",
       "<table border=\"1\" class=\"dataframe\">\n",
       "  <thead>\n",
       "    <tr style=\"text-align: right;\">\n",
       "      <th></th>\n",
       "      <th>accountNumber</th>\n",
       "      <th>accountOpenDate</th>\n",
       "      <th>acqCountry</th>\n",
       "      <th>availableMoney</th>\n",
       "      <th>cardCVV</th>\n",
       "      <th>cardLast4Digits</th>\n",
       "      <th>cardPresent</th>\n",
       "      <th>creditLimit</th>\n",
       "      <th>currentBalance</th>\n",
       "      <th>currentExpDate</th>\n",
       "    </tr>\n",
       "  </thead>\n",
       "  <tbody>\n",
       "    <tr>\n",
       "      <th>267501</th>\n",
       "      <td>413448123</td>\n",
       "      <td>2015-09-09</td>\n",
       "      <td>US</td>\n",
       "      <td>9398.87</td>\n",
       "      <td>944</td>\n",
       "      <td>7659</td>\n",
       "      <td>True</td>\n",
       "      <td>20000.0</td>\n",
       "      <td>10601.13</td>\n",
       "      <td>09/2020</td>\n",
       "    </tr>\n",
       "    <tr>\n",
       "      <th>200225</th>\n",
       "      <td>972633729</td>\n",
       "      <td>2015-11-01</td>\n",
       "      <td>US</td>\n",
       "      <td>263.56</td>\n",
       "      <td>290</td>\n",
       "      <td>7389</td>\n",
       "      <td>True</td>\n",
       "      <td>2500.0</td>\n",
       "      <td>2236.44</td>\n",
       "      <td>06/2020</td>\n",
       "    </tr>\n",
       "    <tr>\n",
       "      <th>347386</th>\n",
       "      <td>422259014</td>\n",
       "      <td>2014-12-20</td>\n",
       "      <td>US</td>\n",
       "      <td>3446.52</td>\n",
       "      <td>385</td>\n",
       "      <td>2521</td>\n",
       "      <td>True</td>\n",
       "      <td>20000.0</td>\n",
       "      <td>16553.48</td>\n",
       "      <td>07/2026</td>\n",
       "    </tr>\n",
       "    <tr>\n",
       "      <th>490350</th>\n",
       "      <td>907531151</td>\n",
       "      <td>2010-11-22</td>\n",
       "      <td>US</td>\n",
       "      <td>13720.29</td>\n",
       "      <td>192</td>\n",
       "      <td>9014</td>\n",
       "      <td>False</td>\n",
       "      <td>15000.0</td>\n",
       "      <td>1279.71</td>\n",
       "      <td>03/2030</td>\n",
       "    </tr>\n",
       "    <tr>\n",
       "      <th>371432</th>\n",
       "      <td>585310900</td>\n",
       "      <td>2015-06-06</td>\n",
       "      <td>US</td>\n",
       "      <td>996.10</td>\n",
       "      <td>518</td>\n",
       "      <td>5232</td>\n",
       "      <td>False</td>\n",
       "      <td>2500.0</td>\n",
       "      <td>1503.90</td>\n",
       "      <td>04/2026</td>\n",
       "    </tr>\n",
       "  </tbody>\n",
       "</table>\n",
       "</div>"
      ],
      "text/plain": [
       "       accountNumber accountOpenDate acqCountry  availableMoney cardCVV  \\\n",
       "267501     413448123      2015-09-09         US         9398.87     944   \n",
       "200225     972633729      2015-11-01         US          263.56     290   \n",
       "347386     422259014      2014-12-20         US         3446.52     385   \n",
       "490350     907531151      2010-11-22         US        13720.29     192   \n",
       "371432     585310900      2015-06-06         US          996.10     518   \n",
       "\n",
       "       cardLast4Digits  cardPresent  creditLimit  currentBalance  \\\n",
       "267501            7659         True      20000.0        10601.13   \n",
       "200225            7389         True       2500.0         2236.44   \n",
       "347386            2521         True      20000.0        16553.48   \n",
       "490350            9014        False      15000.0         1279.71   \n",
       "371432            5232        False       2500.0         1503.90   \n",
       "\n",
       "       currentExpDate  \n",
       "267501        09/2020  \n",
       "200225        06/2020  \n",
       "347386        07/2026  \n",
       "490350        03/2030  \n",
       "371432        04/2026  "
      ]
     },
     "execution_count": 3,
     "metadata": {},
     "output_type": "execute_result"
    }
   ],
   "source": [
    "df[df.columns[:10]].sample(5)"
   ]
  },
  {
   "cell_type": "code",
   "execution_count": 4,
   "metadata": {},
   "outputs": [
    {
     "data": {
      "text/html": [
       "<div>\n",
       "<style scoped>\n",
       "    .dataframe tbody tr th:only-of-type {\n",
       "        vertical-align: middle;\n",
       "    }\n",
       "\n",
       "    .dataframe tbody tr th {\n",
       "        vertical-align: top;\n",
       "    }\n",
       "\n",
       "    .dataframe thead th {\n",
       "        text-align: right;\n",
       "    }\n",
       "</style>\n",
       "<table border=\"1\" class=\"dataframe\">\n",
       "  <thead>\n",
       "    <tr style=\"text-align: right;\">\n",
       "      <th></th>\n",
       "      <th>customerId</th>\n",
       "      <th>dateOfLastAddressChange</th>\n",
       "      <th>echoBuffer</th>\n",
       "      <th>enteredCVV</th>\n",
       "      <th>expirationDateKeyInMatch</th>\n",
       "      <th>isFraud</th>\n",
       "      <th>merchantCategoryCode</th>\n",
       "      <th>merchantCity</th>\n",
       "      <th>merchantCountryCode</th>\n",
       "      <th>merchantName</th>\n",
       "    </tr>\n",
       "  </thead>\n",
       "  <tbody>\n",
       "    <tr>\n",
       "      <th>104237</th>\n",
       "      <td>700641128</td>\n",
       "      <td>2013-03-15</td>\n",
       "      <td></td>\n",
       "      <td>455</td>\n",
       "      <td>False</td>\n",
       "      <td>False</td>\n",
       "      <td>fastfood</td>\n",
       "      <td></td>\n",
       "      <td>US</td>\n",
       "      <td>Pizza Hut #288835</td>\n",
       "    </tr>\n",
       "    <tr>\n",
       "      <th>589322</th>\n",
       "      <td>423667120</td>\n",
       "      <td>2016-01-20</td>\n",
       "      <td></td>\n",
       "      <td>622</td>\n",
       "      <td>False</td>\n",
       "      <td>False</td>\n",
       "      <td>personal care</td>\n",
       "      <td></td>\n",
       "      <td>US</td>\n",
       "      <td>Universe Massage #84171</td>\n",
       "    </tr>\n",
       "    <tr>\n",
       "      <th>554542</th>\n",
       "      <td>914905284</td>\n",
       "      <td>2016-06-12</td>\n",
       "      <td></td>\n",
       "      <td>791</td>\n",
       "      <td>False</td>\n",
       "      <td>False</td>\n",
       "      <td>auto</td>\n",
       "      <td></td>\n",
       "      <td>US</td>\n",
       "      <td>Shell Tire</td>\n",
       "    </tr>\n",
       "    <tr>\n",
       "      <th>313482</th>\n",
       "      <td>982360792</td>\n",
       "      <td>2016-10-24</td>\n",
       "      <td></td>\n",
       "      <td>421</td>\n",
       "      <td>False</td>\n",
       "      <td>False</td>\n",
       "      <td>cable/phone</td>\n",
       "      <td></td>\n",
       "      <td>US</td>\n",
       "      <td>Sprint PCS #394911</td>\n",
       "    </tr>\n",
       "    <tr>\n",
       "      <th>64778</th>\n",
       "      <td>335334122</td>\n",
       "      <td>2015-10-30</td>\n",
       "      <td></td>\n",
       "      <td>465</td>\n",
       "      <td>False</td>\n",
       "      <td>False</td>\n",
       "      <td>online_retail</td>\n",
       "      <td></td>\n",
       "      <td>US</td>\n",
       "      <td>walmart.com</td>\n",
       "    </tr>\n",
       "  </tbody>\n",
       "</table>\n",
       "</div>"
      ],
      "text/plain": [
       "       customerId dateOfLastAddressChange echoBuffer enteredCVV  \\\n",
       "104237  700641128              2013-03-15                   455   \n",
       "589322  423667120              2016-01-20                   622   \n",
       "554542  914905284              2016-06-12                   791   \n",
       "313482  982360792              2016-10-24                   421   \n",
       "64778   335334122              2015-10-30                   465   \n",
       "\n",
       "        expirationDateKeyInMatch  isFraud merchantCategoryCode merchantCity  \\\n",
       "104237                     False    False             fastfood                \n",
       "589322                     False    False        personal care                \n",
       "554542                     False    False                 auto                \n",
       "313482                     False    False          cable/phone                \n",
       "64778                      False    False        online_retail                \n",
       "\n",
       "       merchantCountryCode             merchantName  \n",
       "104237                  US        Pizza Hut #288835  \n",
       "589322                  US  Universe Massage #84171  \n",
       "554542                  US               Shell Tire  \n",
       "313482                  US       Sprint PCS #394911  \n",
       "64778                   US              walmart.com  "
      ]
     },
     "execution_count": 4,
     "metadata": {},
     "output_type": "execute_result"
    }
   ],
   "source": [
    "df[df.columns[10:20]].sample(5)"
   ]
  },
  {
   "cell_type": "code",
   "execution_count": 5,
   "metadata": {},
   "outputs": [
    {
     "data": {
      "text/html": [
       "<div>\n",
       "<style scoped>\n",
       "    .dataframe tbody tr th:only-of-type {\n",
       "        vertical-align: middle;\n",
       "    }\n",
       "\n",
       "    .dataframe tbody tr th {\n",
       "        vertical-align: top;\n",
       "    }\n",
       "\n",
       "    .dataframe thead th {\n",
       "        text-align: right;\n",
       "    }\n",
       "</style>\n",
       "<table border=\"1\" class=\"dataframe\">\n",
       "  <thead>\n",
       "    <tr style=\"text-align: right;\">\n",
       "      <th></th>\n",
       "      <th>merchantState</th>\n",
       "      <th>merchantZip</th>\n",
       "      <th>posConditionCode</th>\n",
       "      <th>posEntryMode</th>\n",
       "      <th>posOnPremises</th>\n",
       "      <th>recurringAuthInd</th>\n",
       "      <th>transactionAmount</th>\n",
       "      <th>transactionDateTime</th>\n",
       "      <th>transactionType</th>\n",
       "    </tr>\n",
       "  </thead>\n",
       "  <tbody>\n",
       "    <tr>\n",
       "      <th>316438</th>\n",
       "      <td></td>\n",
       "      <td></td>\n",
       "      <td>08</td>\n",
       "      <td>05</td>\n",
       "      <td></td>\n",
       "      <td></td>\n",
       "      <td>142.00</td>\n",
       "      <td>2016-01-14T04:19:09</td>\n",
       "      <td>PURCHASE</td>\n",
       "    </tr>\n",
       "    <tr>\n",
       "      <th>327254</th>\n",
       "      <td></td>\n",
       "      <td></td>\n",
       "      <td>01</td>\n",
       "      <td>02</td>\n",
       "      <td></td>\n",
       "      <td></td>\n",
       "      <td>36.78</td>\n",
       "      <td>2016-10-28T23:32:37</td>\n",
       "      <td>PURCHASE</td>\n",
       "    </tr>\n",
       "    <tr>\n",
       "      <th>531146</th>\n",
       "      <td></td>\n",
       "      <td></td>\n",
       "      <td>01</td>\n",
       "      <td>09</td>\n",
       "      <td></td>\n",
       "      <td></td>\n",
       "      <td>333.27</td>\n",
       "      <td>2016-02-27T12:20:06</td>\n",
       "      <td>PURCHASE</td>\n",
       "    </tr>\n",
       "    <tr>\n",
       "      <th>344309</th>\n",
       "      <td></td>\n",
       "      <td></td>\n",
       "      <td>01</td>\n",
       "      <td>02</td>\n",
       "      <td></td>\n",
       "      <td></td>\n",
       "      <td>205.33</td>\n",
       "      <td>2016-11-10T16:52:36</td>\n",
       "      <td>PURCHASE</td>\n",
       "    </tr>\n",
       "    <tr>\n",
       "      <th>326422</th>\n",
       "      <td></td>\n",
       "      <td></td>\n",
       "      <td>01</td>\n",
       "      <td>05</td>\n",
       "      <td></td>\n",
       "      <td></td>\n",
       "      <td>20.82</td>\n",
       "      <td>2016-02-15T20:10:57</td>\n",
       "      <td>PURCHASE</td>\n",
       "    </tr>\n",
       "  </tbody>\n",
       "</table>\n",
       "</div>"
      ],
      "text/plain": [
       "       merchantState merchantZip posConditionCode posEntryMode posOnPremises  \\\n",
       "316438                                         08           05                 \n",
       "327254                                         01           02                 \n",
       "531146                                         01           09                 \n",
       "344309                                         01           02                 \n",
       "326422                                         01           05                 \n",
       "\n",
       "       recurringAuthInd  transactionAmount  transactionDateTime  \\\n",
       "316438                              142.00  2016-01-14T04:19:09   \n",
       "327254                               36.78  2016-10-28T23:32:37   \n",
       "531146                              333.27  2016-02-27T12:20:06   \n",
       "344309                              205.33  2016-11-10T16:52:36   \n",
       "326422                               20.82  2016-02-15T20:10:57   \n",
       "\n",
       "       transactionType  \n",
       "316438        PURCHASE  \n",
       "327254        PURCHASE  \n",
       "531146        PURCHASE  \n",
       "344309        PURCHASE  \n",
       "326422        PURCHASE  "
      ]
     },
     "execution_count": 5,
     "metadata": {},
     "output_type": "execute_result"
    }
   ],
   "source": [
    "df[df.columns[20:]].sample(5)"
   ]
  },
  {
   "cell_type": "markdown",
   "metadata": {},
   "source": [
    "it seems all the NA values are stored as empty strings, so we will replace them with np.nan and check their statistic"
   ]
  },
  {
   "cell_type": "code",
   "execution_count": 3,
   "metadata": {},
   "outputs": [
    {
     "data": {
      "text/plain": [
       "accountNumber                    0\n",
       "accountOpenDate                  0\n",
       "acqCountry                    3913\n",
       "availableMoney                   0\n",
       "cardCVV                          0\n",
       "cardLast4Digits                  0\n",
       "cardPresent                      0\n",
       "creditLimit                      0\n",
       "currentBalance                   0\n",
       "currentExpDate                   0\n",
       "customerId                       0\n",
       "dateOfLastAddressChange          0\n",
       "echoBuffer                  641914\n",
       "enteredCVV                       0\n",
       "expirationDateKeyInMatch         0\n",
       "isFraud                          0\n",
       "merchantCategoryCode             0\n",
       "merchantCity                641914\n",
       "merchantCountryCode            624\n",
       "merchantName                     0\n",
       "merchantState               641914\n",
       "merchantZip                 641914\n",
       "posConditionCode               287\n",
       "posEntryMode                  3345\n",
       "posOnPremises               641914\n",
       "recurringAuthInd            641914\n",
       "transactionAmount                0\n",
       "transactionDateTime              0\n",
       "transactionType                589\n",
       "dtype: int64"
      ]
     },
     "execution_count": 3,
     "metadata": {},
     "output_type": "execute_result"
    }
   ],
   "source": [
    "import numpy as np\n",
    "df.replace('', np.nan, inplace=True)\n",
    "df.isnull().sum()"
   ]
  },
  {
   "cell_type": "markdown",
   "metadata": {},
   "source": [
    "let check the data types of all fields. Convert them to their appropriate column types"
   ]
  },
  {
   "cell_type": "code",
   "execution_count": 7,
   "metadata": {},
   "outputs": [
    {
     "data": {
      "text/plain": [
       "accountNumber                object\n",
       "accountOpenDate              object\n",
       "acqCountry                   object\n",
       "availableMoney              float64\n",
       "cardCVV                      object\n",
       "cardLast4Digits              object\n",
       "cardPresent                    bool\n",
       "creditLimit                 float64\n",
       "currentBalance              float64\n",
       "currentExpDate               object\n",
       "customerId                   object\n",
       "dateOfLastAddressChange      object\n",
       "echoBuffer                  float64\n",
       "enteredCVV                   object\n",
       "expirationDateKeyInMatch       bool\n",
       "isFraud                        bool\n",
       "merchantCategoryCode         object\n",
       "merchantCity                float64\n",
       "merchantCountryCode          object\n",
       "merchantName                 object\n",
       "merchantState               float64\n",
       "merchantZip                 float64\n",
       "posConditionCode             object\n",
       "posEntryMode                 object\n",
       "posOnPremises               float64\n",
       "recurringAuthInd            float64\n",
       "transactionAmount           float64\n",
       "transactionDateTime          object\n",
       "transactionType              object\n",
       "dtype: object"
      ]
     },
     "execution_count": 7,
     "metadata": {},
     "output_type": "execute_result"
    }
   ],
   "source": [
    "df.dtypes"
   ]
  },
  {
   "cell_type": "code",
   "execution_count": 4,
   "metadata": {
    "collapsed": true,
    "jupyter": {
     "outputs_hidden": true
    }
   },
   "outputs": [],
   "source": [
    "for col in ['accountNumber', 'cardCVV','cardLast4Digits','enteredCVV']:\n",
    "    df[col] = df[col].astype(int)\n",
    "    \n",
    "for col in ['accountOpenDate','dateOfLastAddressChange']:\n",
    "    df[col] = pd.to_datetime(df[col], format = \"%Y-%M-%d\")\n",
    "    \n",
    "for col in ['currentExpDate']:\n",
    "    df[col] = pd.to_datetime(df[col], format = \"%M/%Y\")\n",
    "    \n",
    "for col in ['transactionDateTime']:\n",
    "    df[col] = pd.to_datetime(df[col], format = \"%Y-%m-%dT%H:%M:%S\")\n",
    "    \n",
    "for col in ['merchantCategoryCode', 'posConditionCode','posEntryMode','transactionType','posEntryMode']:\n",
    "    df[col] = df[col].astype('category')"
   ]
  },
  {
   "cell_type": "markdown",
   "metadata": {},
   "source": [
    "### Q1b Please provide some additional basic summary statistics for each field. Be sure to include a count of null, minimum, maximum, and unique values where appropriate."
   ]
  },
  {
   "cell_type": "code",
   "execution_count": 9,
   "metadata": {},
   "outputs": [
    {
     "name": "stdout",
     "output_type": "stream",
     "text": [
      "accountNumber\n",
      "There are     0 number of NA values\n",
      "There are  5000 number of unique values\n",
      "\n",
      "cardCVV\n",
      "There are     0 number of NA values\n",
      "There are   899 number of unique values\n",
      "\n",
      "cardLast4Digits\n",
      "There are     0 number of NA values\n",
      "There are  5134 number of unique values\n",
      "\n",
      "enteredCVV\n",
      "There are     0 number of NA values\n",
      "There are   980 number of unique values\n",
      "\n",
      "acqCountry\n",
      "There are  3913 number of NA values\n",
      "There are     5 number of unique values\n",
      "top 5 values are: \n",
      "US     632303\n",
      "MEX      2626\n",
      "CAN      1870\n",
      "PR       1202\n",
      "Name: acqCountry, dtype: int64\n",
      "\n",
      "cardPresent\n",
      "There are     0 number of NA values\n",
      "There are     2 number of unique values\n",
      "top 5 values are: \n",
      "False    340453\n",
      "True     301461\n",
      "Name: cardPresent, dtype: int64\n",
      "\n",
      "customerId\n",
      "There are     0 number of NA values\n",
      "There are  5000 number of unique values\n",
      "\n",
      "enteredCVV\n",
      "There are     0 number of NA values\n",
      "There are   980 number of unique values\n",
      "\n",
      "expirationDateKeyInMatch\n",
      "There are     0 number of NA values\n",
      "There are     2 number of unique values\n",
      "top 5 values are: \n",
      "False    640945\n",
      "True        969\n",
      "Name: expirationDateKeyInMatch, dtype: int64\n",
      "\n",
      "isFraud\n",
      "There are     0 number of NA values\n",
      "There are     2 number of unique values\n",
      "top 5 values are: \n",
      "False    630612\n",
      "True      11302\n",
      "Name: isFraud, dtype: int64\n",
      "\n",
      "merchantCategoryCode\n",
      "There are     0 number of NA values\n",
      "There are    19 number of unique values\n",
      "\n",
      "transactionType\n",
      "There are   589 number of NA values\n",
      "There are     4 number of unique values\n",
      "top 5 values are: \n",
      "PURCHASE                608685\n",
      "ADDRESS_VERIFICATION     16478\n",
      "REVERSAL                 16162\n",
      "Name: transactionType, dtype: int64\n",
      "\n"
     ]
    }
   ],
   "source": [
    "categorical_columns = ['accountNumber','cardCVV','cardLast4Digits','enteredCVV','acqCountry','cardPresent','customerId',\n",
    "                      'enteredCVV','expirationDateKeyInMatch','isFraud','merchantCategoryCode','transactionType']\n",
    "for col in categorical_columns:\n",
    "    print(col)\n",
    "    na_count, unique_count = df[col].isnull().sum(), len(set(df[col]))\n",
    "    print(\"There are %5d number of NA values\" % na_count)\n",
    "    print(\"There are %5d number of unique values\" % unique_count)\n",
    "    if unique_count < 10:\n",
    "        print(\"top 5 values are: \")\n",
    "        print(df[col].value_counts()[:5])\n",
    "    print()"
   ]
  },
  {
   "cell_type": "code",
   "execution_count": 10,
   "metadata": {},
   "outputs": [
    {
     "name": "stdout",
     "output_type": "stream",
     "text": [
      "availableMoney :\n",
      "There are     0 number of NA values\n",
      "minimum value is:  -1244.93\n",
      "maxmium value is:  50000.0\n",
      "median  value is:  3578.165\n",
      "mean    value is:  6652.828572659459\n",
      "\n",
      "creditLimit :\n",
      "There are     0 number of NA values\n",
      "minimum value is:  250.0\n",
      "maxmium value is:  50000.0\n",
      "median  value is:  7500.0\n",
      "mean    value is:  10697.210607651492\n",
      "\n",
      "currentBalance :\n",
      "There are     0 number of NA values\n",
      "minimum value is:  0.0\n",
      "maxmium value is:  47496.5\n",
      "median  value is:  2151.86\n",
      "mean    value is:  4044.3820349922103\n",
      "\n",
      "accountOpenDate :\n",
      "There are     0 number of NA values\n",
      "minimum value is:  1985-01-25 00:12:00\n",
      "maxmium value is:  2015-01-31 00:12:00\n",
      "\n",
      "currentExpDate :\n",
      "There are     0 number of NA values\n",
      "minimum value is:  2018-01-01 00:05:00\n",
      "maxmium value is:  2032-01-01 00:01:00\n",
      "\n",
      "dateOfLastAddressChange :\n",
      "There are     0 number of NA values\n",
      "minimum value is:  1985-01-25 00:12:00\n",
      "maxmium value is:  2016-01-31 00:10:00\n",
      "\n",
      "transactionAmount :\n",
      "There are     0 number of NA values\n",
      "minimum value is:  0.0\n",
      "maxmium value is:  1825.25\n",
      "median  value is:  85.8\n",
      "mean    value is:  135.16249698556928\n",
      "\n"
     ]
    }
   ],
   "source": [
    "continous_columns = ['availableMoney','creditLimit','currentBalance','accountOpenDate','currentExpDate',\n",
    "                     'dateOfLastAddressChange','transactionAmount']\n",
    "for col in continous_columns:\n",
    "    print(col, \":\")\n",
    "    print(\"There are %5d number of NA values\" % df[col].isnull().sum())\n",
    "    print(\"minimum value is: \", df[col].min())\n",
    "    print(\"maxmium value is: \", df[col].max())\n",
    "    if \"date\" not in col.lower():\n",
    "        print(\"median  value is: \", df[col].median())\n",
    "        print(\"mean    value is: \", df[col].mean())\n",
    "    print()"
   ]
  },
  {
   "cell_type": "markdown",
   "metadata": {},
   "source": [
    "## Question 2: Plot\n",
    "### Q2A: Plot a histogram of the processed amounts of each transaction, the transactionAmount column.\n"
   ]
  },
  {
   "cell_type": "code",
   "execution_count": 11,
   "metadata": {
    "collapsed": true,
    "jupyter": {
     "outputs_hidden": true
    }
   },
   "outputs": [],
   "source": [
    "import matplotlib.pyplot as plt\n",
    "%matplotlib inline"
   ]
  },
  {
   "cell_type": "code",
   "execution_count": 12,
   "metadata": {},
   "outputs": [
    {
     "data": {
      "text/plain": [
       "array([[<matplotlib.axes._subplots.AxesSubplot object at 0x000001875DBC4B70>]],\n",
       "      dtype=object)"
      ]
     },
     "execution_count": 12,
     "metadata": {},
     "output_type": "execute_result"
    },
    {
     "data": {
      "image/png": "[encoded data removed]",
      "text/plain": [
       "<matplotlib.figure.Figure at 0x1875d842048>"
      ]
     },
     "metadata": {},
     "output_type": "display_data"
    }
   ],
   "source": [
    "df.hist(column='transactionAmount', bins=50)"
   ]
  },
  {
   "cell_type": "markdown",
   "metadata": {},
   "source": [
    "The plot is concentrated to the left. let us zoom in."
   ]
  },
  {
   "cell_type": "code",
   "execution_count": 13,
   "metadata": {},
   "outputs": [
    {
     "data": {
      "text/plain": [
       "array([[<matplotlib.axes._subplots.AxesSubplot object at 0x000001875DBE85F8>]],\n",
       "      dtype=object)"
      ]
     },
     "execution_count": 13,
     "metadata": {},
     "output_type": "execute_result"
    },
    {
     "data": {
      "image/png": "[encoded data removed]",
      "text/plain": [
       "<matplotlib.figure.Figure at 0x1875dc51518>"
      ]
     },
     "metadata": {},
     "output_type": "display_data"
    }
   ],
   "source": [
    "df[df['transactionAmount'] < 750].hist(column='transactionAmount', bins=100)"
   ]
  },
  {
   "cell_type": "markdown",
   "metadata": {},
   "source": [
    "### Q2B: Report any structure you find and any hypotheses you have about that structure.\n",
    "Answer: There is a big peak near 0. This might due to a large amount of zero dollar transactions (address verification for example). The general shape looks like a power-law or exponential decay. We can try to fit the histogram by power_law or exponential decay and see which one describes the data better."
   ]
  },
  {
   "cell_type": "markdown",
   "metadata": {},
   "source": [
    "## Question 3: Data Wrangling - Duplicate Transactions\n",
    "You will notice a number of what look like duplicated transactions in the data set. One type of duplicated transaction is a multi-swipe, where a vendor accidentally charges a customer's card multiple times within a short time span. Another example is a reversed transaction, where a purchase is followed by a reversal.\n",
    "\n",
    "Can you programmatically identify duplicated and reversed transactions?\n",
    "\n",
    "Did you find anything interesting about either of these transaction types?\n",
    "\n",
    "What share of transactions (both number of transactions and the dollar amount) do you estimate for the duplicated and reversed transaction types that you identified? In a multi-swipe transaction, please consider the first transaction to be \"normal\" and exclude it from the number of transaction and dollar amount counts."
   ]
  },
  {
   "cell_type": "code",
   "execution_count": 5,
   "metadata": {},
   "outputs": [
    {
     "name": "stdout",
     "output_type": "stream",
     "text": [
      "This is an example of REVERSALS:\n",
      "accountID 100973869 ('Uber', 124.63) 3\n",
      "       transactionDateTime  availableMoney  isFraud transactionType\n",
      "121998 2016-02-25 19:01:38          658.25    False        PURCHASE\n",
      "121999 2016-02-29 15:42:21          533.62    False        REVERSAL\n",
      "\n",
      "The number of loans processed 5\n",
      "This is an example of periodic subscription:\n",
      "accountID 101548993 ('netflix.com', 18.710000000000001) 5\n",
      "       transactionDateTime  availableMoney  isFraud transactionType\n",
      "520261 2016-06-10 20:55:01         7428.25    False        PURCHASE\n",
      "520264 2016-07-12 11:22:49         7441.30    False        PURCHASE\n",
      "520267 2016-08-12 13:51:55         7500.00    False        PURCHASE\n",
      "520271 2016-09-13 06:18:55         7426.32    False        PURCHASE\n",
      "520274 2016-10-15 03:51:26         7431.30    False        PURCHASE\n",
      "520277 2016-11-14 08:01:34         7441.30    False        PURCHASE\n",
      "520280 2016-12-16 00:56:36         7441.30    False        PURCHASE\n",
      "\n",
      "This is an example of DUPLICATES:\n",
      "accountID 104679201 ('34th BBQ #166379', 0.0) 22\n",
      "      transactionDateTime  availableMoney  isFraud       transactionType\n",
      "81356 2016-10-14 15:21:13         4327.46    False  ADDRESS_VERIFICATION\n",
      "81357 2016-10-14 15:23:51         4327.46    False  ADDRESS_VERIFICATION\n",
      "\n",
      "This is an example of REVERSALS:\n",
      "accountID 115214830 ('Fresh eCards', 423.87) 59\n",
      "       transactionDateTime  availableMoney  isFraud transactionType\n",
      "540465 2016-09-10 02:23:38         3688.24    False        PURCHASE\n",
      "540466 2016-09-10 02:25:52         3264.37    False        REVERSAL\n",
      "\n",
      "This is an example of periodic subscription:\n",
      "accountID 121560296 ('Play Store', 4.8799999999999999) 88\n",
      "       transactionDateTime  availableMoney  isFraud transactionType\n",
      "182397 2016-04-25 09:59:58         4891.70    False        PURCHASE\n",
      "182401 2016-05-26 05:02:25         4905.20    False        PURCHASE\n",
      "182407 2016-06-25 20:02:10         4702.95    False        PURCHASE\n",
      "182412 2016-07-27 09:52:58         4865.33    False        PURCHASE\n",
      "182418 2016-08-27 21:49:03         4879.91    False        PURCHASE\n",
      "182422 2016-09-27 12:42:02         4880.93    False        PURCHASE\n",
      "182425 2016-10-28 13:46:59         4892.92    False        PURCHASE\n",
      "182432 2016-11-29 08:43:46         3775.68    False        PURCHASE\n",
      "182435 2016-12-30 19:05:24         4879.95    False        PURCHASE\n",
      "\n"
     ]
    },
    {
     "ename": "KeyboardInterrupt",
     "evalue": "",
     "output_type": "error",
     "traceback": [
      "\u001b[1;31m---------------------------------------------------------------------------\u001b[0m",
      "\u001b[1;31mKeyboardInterrupt\u001b[0m                         Traceback (most recent call last)",
      "\u001b[1;32m<timed exec>\u001b[0m in \u001b[0;36m<module>\u001b[1;34m()\u001b[0m\n",
      "\u001b[1;32mC:\\ProgramData\\Anaconda3\\lib\\site-packages\\pandas\\core\\groupby.py\u001b[0m in \u001b[0;36mget_iterator\u001b[1;34m(self, data, axis)\u001b[0m\n\u001b[0;32m   1753\u001b[0m         \u001b[1;32mfor\u001b[0m \u001b[0meach\u001b[0m \u001b[0mgroup\u001b[0m\u001b[1;33m\u001b[0m\u001b[0m\n\u001b[0;32m   1754\u001b[0m         \"\"\"\n\u001b[1;32m-> 1755\u001b[1;33m         \u001b[0msplitter\u001b[0m \u001b[1;33m=\u001b[0m \u001b[0mself\u001b[0m\u001b[1;33m.\u001b[0m\u001b[0m_get_splitter\u001b[0m\u001b[1;33m(\u001b[0m\u001b[0mdata\u001b[0m\u001b[1;33m,\u001b[0m \u001b[0maxis\u001b[0m\u001b[1;33m=\u001b[0m\u001b[0maxis\u001b[0m\u001b[1;33m)\u001b[0m\u001b[1;33m\u001b[0m\u001b[0m\n\u001b[0m\u001b[0;32m   1756\u001b[0m         \u001b[0mkeys\u001b[0m \u001b[1;33m=\u001b[0m \u001b[0mself\u001b[0m\u001b[1;33m.\u001b[0m\u001b[0m_get_group_keys\u001b[0m\u001b[1;33m(\u001b[0m\u001b[1;33m)\u001b[0m\u001b[1;33m\u001b[0m\u001b[0m\n\u001b[0;32m   1757\u001b[0m         \u001b[1;32mfor\u001b[0m \u001b[0mkey\u001b[0m\u001b[1;33m,\u001b[0m \u001b[1;33m(\u001b[0m\u001b[0mi\u001b[0m\u001b[1;33m,\u001b[0m \u001b[0mgroup\u001b[0m\u001b[1;33m)\u001b[0m \u001b[1;32min\u001b[0m \u001b[0mzip\u001b[0m\u001b[1;33m(\u001b[0m\u001b[0mkeys\u001b[0m\u001b[1;33m,\u001b[0m \u001b[0msplitter\u001b[0m\u001b[1;33m)\u001b[0m\u001b[1;33m:\u001b[0m\u001b[1;33m\u001b[0m\u001b[0m\n",
      "\u001b[1;32mC:\\ProgramData\\Anaconda3\\lib\\site-packages\\pandas\\core\\groupby.py\u001b[0m in \u001b[0;36m_get_splitter\u001b[1;34m(self, data, axis)\u001b[0m\n\u001b[0;32m   1759\u001b[0m \u001b[1;33m\u001b[0m\u001b[0m\n\u001b[0;32m   1760\u001b[0m     \u001b[1;32mdef\u001b[0m \u001b[0m_get_splitter\u001b[0m\u001b[1;33m(\u001b[0m\u001b[0mself\u001b[0m\u001b[1;33m,\u001b[0m \u001b[0mdata\u001b[0m\u001b[1;33m,\u001b[0m \u001b[0maxis\u001b[0m\u001b[1;33m=\u001b[0m\u001b[1;36m0\u001b[0m\u001b[1;33m)\u001b[0m\u001b[1;33m:\u001b[0m\u001b[1;33m\u001b[0m\u001b[0m\n\u001b[1;32m-> 1761\u001b[1;33m         \u001b[0mcomp_ids\u001b[0m\u001b[1;33m,\u001b[0m \u001b[0m_\u001b[0m\u001b[1;33m,\u001b[0m \u001b[0mngroups\u001b[0m \u001b[1;33m=\u001b[0m \u001b[0mself\u001b[0m\u001b[1;33m.\u001b[0m\u001b[0mgroup_info\u001b[0m\u001b[1;33m\u001b[0m\u001b[0m\n\u001b[0m\u001b[0;32m   1762\u001b[0m         \u001b[1;32mreturn\u001b[0m \u001b[0mget_splitter\u001b[0m\u001b[1;33m(\u001b[0m\u001b[0mdata\u001b[0m\u001b[1;33m,\u001b[0m \u001b[0mcomp_ids\u001b[0m\u001b[1;33m,\u001b[0m \u001b[0mngroups\u001b[0m\u001b[1;33m,\u001b[0m \u001b[0maxis\u001b[0m\u001b[1;33m=\u001b[0m\u001b[0maxis\u001b[0m\u001b[1;33m)\u001b[0m\u001b[1;33m\u001b[0m\u001b[0m\n\u001b[0;32m   1763\u001b[0m \u001b[1;33m\u001b[0m\u001b[0m\n",
      "\u001b[1;32mpandas/_libs/src\\properties.pyx\u001b[0m in \u001b[0;36mpandas._libs.lib.cache_readonly.__get__\u001b[1;34m()\u001b[0m\n",
      "\u001b[1;32mC:\\ProgramData\\Anaconda3\\lib\\site-packages\\pandas\\core\\groupby.py\u001b[0m in \u001b[0;36mgroup_info\u001b[1;34m(self)\u001b[0m\n\u001b[0;32m   1871\u001b[0m     \u001b[1;33m@\u001b[0m\u001b[0mcache_readonly\u001b[0m\u001b[1;33m\u001b[0m\u001b[0m\n\u001b[0;32m   1872\u001b[0m     \u001b[1;32mdef\u001b[0m \u001b[0mgroup_info\u001b[0m\u001b[1;33m(\u001b[0m\u001b[0mself\u001b[0m\u001b[1;33m)\u001b[0m\u001b[1;33m:\u001b[0m\u001b[1;33m\u001b[0m\u001b[0m\n\u001b[1;32m-> 1873\u001b[1;33m         \u001b[0mcomp_ids\u001b[0m\u001b[1;33m,\u001b[0m \u001b[0mobs_group_ids\u001b[0m \u001b[1;33m=\u001b[0m \u001b[0mself\u001b[0m\u001b[1;33m.\u001b[0m\u001b[0m_get_compressed_labels\u001b[0m\u001b[1;33m(\u001b[0m\u001b[1;33m)\u001b[0m\u001b[1;33m\u001b[0m\u001b[0m\n\u001b[0m\u001b[0;32m   1874\u001b[0m \u001b[1;33m\u001b[0m\u001b[0m\n\u001b[0;32m   1875\u001b[0m         \u001b[0mngroups\u001b[0m \u001b[1;33m=\u001b[0m \u001b[0mlen\u001b[0m\u001b[1;33m(\u001b[0m\u001b[0mobs_group_ids\u001b[0m\u001b[1;33m)\u001b[0m\u001b[1;33m\u001b[0m\u001b[0m\n",
      "\u001b[1;32mC:\\ProgramData\\Anaconda3\\lib\\site-packages\\pandas\\core\\groupby.py\u001b[0m in \u001b[0;36m_get_compressed_labels\u001b[1;34m(self)\u001b[0m\n\u001b[0;32m   1878\u001b[0m \u001b[1;33m\u001b[0m\u001b[0m\n\u001b[0;32m   1879\u001b[0m     \u001b[1;32mdef\u001b[0m \u001b[0m_get_compressed_labels\u001b[0m\u001b[1;33m(\u001b[0m\u001b[0mself\u001b[0m\u001b[1;33m)\u001b[0m\u001b[1;33m:\u001b[0m\u001b[1;33m\u001b[0m\u001b[0m\n\u001b[1;32m-> 1880\u001b[1;33m         \u001b[0mall_labels\u001b[0m \u001b[1;33m=\u001b[0m \u001b[1;33m[\u001b[0m\u001b[0mping\u001b[0m\u001b[1;33m.\u001b[0m\u001b[0mlabels\u001b[0m \u001b[1;32mfor\u001b[0m \u001b[0mping\u001b[0m \u001b[1;32min\u001b[0m \u001b[0mself\u001b[0m\u001b[1;33m.\u001b[0m\u001b[0mgroupings\u001b[0m\u001b[1;33m]\u001b[0m\u001b[1;33m\u001b[0m\u001b[0m\n\u001b[0m\u001b[0;32m   1881\u001b[0m         \u001b[1;32mif\u001b[0m \u001b[0mlen\u001b[0m\u001b[1;33m(\u001b[0m\u001b[0mall_labels\u001b[0m\u001b[1;33m)\u001b[0m \u001b[1;33m>\u001b[0m \u001b[1;36m1\u001b[0m\u001b[1;33m:\u001b[0m\u001b[1;33m\u001b[0m\u001b[0m\n\u001b[0;32m   1882\u001b[0m             group_index = get_group_index(all_labels, self.shape,\n",
      "\u001b[1;32mC:\\ProgramData\\Anaconda3\\lib\\site-packages\\pandas\\core\\groupby.py\u001b[0m in \u001b[0;36m<listcomp>\u001b[1;34m(.0)\u001b[0m\n\u001b[0;32m   1878\u001b[0m \u001b[1;33m\u001b[0m\u001b[0m\n\u001b[0;32m   1879\u001b[0m     \u001b[1;32mdef\u001b[0m \u001b[0m_get_compressed_labels\u001b[0m\u001b[1;33m(\u001b[0m\u001b[0mself\u001b[0m\u001b[1;33m)\u001b[0m\u001b[1;33m:\u001b[0m\u001b[1;33m\u001b[0m\u001b[0m\n\u001b[1;32m-> 1880\u001b[1;33m         \u001b[0mall_labels\u001b[0m \u001b[1;33m=\u001b[0m \u001b[1;33m[\u001b[0m\u001b[0mping\u001b[0m\u001b[1;33m.\u001b[0m\u001b[0mlabels\u001b[0m \u001b[1;32mfor\u001b[0m \u001b[0mping\u001b[0m \u001b[1;32min\u001b[0m \u001b[0mself\u001b[0m\u001b[1;33m.\u001b[0m\u001b[0mgroupings\u001b[0m\u001b[1;33m]\u001b[0m\u001b[1;33m\u001b[0m\u001b[0m\n\u001b[0m\u001b[0;32m   1881\u001b[0m         \u001b[1;32mif\u001b[0m \u001b[0mlen\u001b[0m\u001b[1;33m(\u001b[0m\u001b[0mall_labels\u001b[0m\u001b[1;33m)\u001b[0m \u001b[1;33m>\u001b[0m \u001b[1;36m1\u001b[0m\u001b[1;33m:\u001b[0m\u001b[1;33m\u001b[0m\u001b[0m\n\u001b[0;32m   1882\u001b[0m             group_index = get_group_index(all_labels, self.shape,\n",
      "\u001b[1;32mC:\\ProgramData\\Anaconda3\\lib\\site-packages\\pandas\\core\\groupby.py\u001b[0m in \u001b[0;36mlabels\u001b[1;34m(self)\u001b[0m\n\u001b[0;32m   2531\u001b[0m     \u001b[1;32mdef\u001b[0m \u001b[0mlabels\u001b[0m\u001b[1;33m(\u001b[0m\u001b[0mself\u001b[0m\u001b[1;33m)\u001b[0m\u001b[1;33m:\u001b[0m\u001b[1;33m\u001b[0m\u001b[0m\n\u001b[0;32m   2532\u001b[0m         \u001b[1;32mif\u001b[0m \u001b[0mself\u001b[0m\u001b[1;33m.\u001b[0m\u001b[0m_labels\u001b[0m \u001b[1;32mis\u001b[0m \u001b[1;32mNone\u001b[0m\u001b[1;33m:\u001b[0m\u001b[1;33m\u001b[0m\u001b[0m\n\u001b[1;32m-> 2533\u001b[1;33m             \u001b[0mself\u001b[0m\u001b[1;33m.\u001b[0m\u001b[0m_make_labels\u001b[0m\u001b[1;33m(\u001b[0m\u001b[1;33m)\u001b[0m\u001b[1;33m\u001b[0m\u001b[0m\n\u001b[0m\u001b[0;32m   2534\u001b[0m         \u001b[1;32mreturn\u001b[0m \u001b[0mself\u001b[0m\u001b[1;33m.\u001b[0m\u001b[0m_labels\u001b[0m\u001b[1;33m\u001b[0m\u001b[0m\n\u001b[0;32m   2535\u001b[0m \u001b[1;33m\u001b[0m\u001b[0m\n",
      "\u001b[1;32mC:\\ProgramData\\Anaconda3\\lib\\site-packages\\pandas\\core\\groupby.py\u001b[0m in \u001b[0;36m_make_labels\u001b[1;34m(self)\u001b[0m\n\u001b[0;32m   2543\u001b[0m         \u001b[1;32mif\u001b[0m \u001b[0mself\u001b[0m\u001b[1;33m.\u001b[0m\u001b[0m_labels\u001b[0m \u001b[1;32mis\u001b[0m \u001b[1;32mNone\u001b[0m \u001b[1;32mor\u001b[0m \u001b[0mself\u001b[0m\u001b[1;33m.\u001b[0m\u001b[0m_group_index\u001b[0m \u001b[1;32mis\u001b[0m \u001b[1;32mNone\u001b[0m\u001b[1;33m:\u001b[0m\u001b[1;33m\u001b[0m\u001b[0m\n\u001b[0;32m   2544\u001b[0m             labels, uniques = algorithms.factorize(\n\u001b[1;32m-> 2545\u001b[1;33m                 self.grouper, sort=self.sort)\n\u001b[0m\u001b[0;32m   2546\u001b[0m             \u001b[0muniques\u001b[0m \u001b[1;33m=\u001b[0m \u001b[0mIndex\u001b[0m\u001b[1;33m(\u001b[0m\u001b[0muniques\u001b[0m\u001b[1;33m,\u001b[0m \u001b[0mname\u001b[0m\u001b[1;33m=\u001b[0m\u001b[0mself\u001b[0m\u001b[1;33m.\u001b[0m\u001b[0mname\u001b[0m\u001b[1;33m)\u001b[0m\u001b[1;33m\u001b[0m\u001b[0m\n\u001b[0;32m   2547\u001b[0m             \u001b[0mself\u001b[0m\u001b[1;33m.\u001b[0m\u001b[0m_labels\u001b[0m \u001b[1;33m=\u001b[0m \u001b[0mlabels\u001b[0m\u001b[1;33m\u001b[0m\u001b[0m\n",
      "\u001b[1;32mC:\\ProgramData\\Anaconda3\\lib\\site-packages\\pandas\\core\\algorithms.py\u001b[0m in \u001b[0;36mfactorize\u001b[1;34m(values, sort, order, na_sentinel, size_hint)\u001b[0m\n\u001b[0;32m    558\u001b[0m     \u001b[0muniques\u001b[0m \u001b[1;33m=\u001b[0m \u001b[0mvec_klass\u001b[0m\u001b[1;33m(\u001b[0m\u001b[1;33m)\u001b[0m\u001b[1;33m\u001b[0m\u001b[0m\n\u001b[0;32m    559\u001b[0m     \u001b[0mcheck_nulls\u001b[0m \u001b[1;33m=\u001b[0m \u001b[1;32mnot\u001b[0m \u001b[0mis_integer_dtype\u001b[0m\u001b[1;33m(\u001b[0m\u001b[0moriginal\u001b[0m\u001b[1;33m)\u001b[0m\u001b[1;33m\u001b[0m\u001b[0m\n\u001b[1;32m--> 560\u001b[1;33m     \u001b[0mlabels\u001b[0m \u001b[1;33m=\u001b[0m \u001b[0mtable\u001b[0m\u001b[1;33m.\u001b[0m\u001b[0mget_labels\u001b[0m\u001b[1;33m(\u001b[0m\u001b[0mvalues\u001b[0m\u001b[1;33m,\u001b[0m \u001b[0muniques\u001b[0m\u001b[1;33m,\u001b[0m \u001b[1;36m0\u001b[0m\u001b[1;33m,\u001b[0m \u001b[0mna_sentinel\u001b[0m\u001b[1;33m,\u001b[0m \u001b[0mcheck_nulls\u001b[0m\u001b[1;33m)\u001b[0m\u001b[1;33m\u001b[0m\u001b[0m\n\u001b[0m\u001b[0;32m    561\u001b[0m \u001b[1;33m\u001b[0m\u001b[0m\n\u001b[0;32m    562\u001b[0m     \u001b[0mlabels\u001b[0m \u001b[1;33m=\u001b[0m \u001b[0m_ensure_platform_int\u001b[0m\u001b[1;33m(\u001b[0m\u001b[0mlabels\u001b[0m\u001b[1;33m)\u001b[0m\u001b[1;33m\u001b[0m\u001b[0m\n",
      "\u001b[1;32mpandas\\_libs\\hashtable_class_helper.pxi\u001b[0m in \u001b[0;36mpandas._libs.hashtable.StringHashTable.get_labels\u001b[1;34m()\u001b[0m\n",
      "\u001b[1;32mC:\\ProgramData\\Anaconda3\\lib\\site-packages\\numpy\\core\\numeric.py\u001b[0m in \u001b[0;36masarray\u001b[1;34m(a, dtype, order)\u001b[0m\n\u001b[0;32m    461\u001b[0m \u001b[1;33m\u001b[0m\u001b[0m\n\u001b[0;32m    462\u001b[0m \u001b[1;33m\u001b[0m\u001b[0m\n\u001b[1;32m--> 463\u001b[1;33m \u001b[1;32mdef\u001b[0m \u001b[0masarray\u001b[0m\u001b[1;33m(\u001b[0m\u001b[0ma\u001b[0m\u001b[1;33m,\u001b[0m \u001b[0mdtype\u001b[0m\u001b[1;33m=\u001b[0m\u001b[1;32mNone\u001b[0m\u001b[1;33m,\u001b[0m \u001b[0morder\u001b[0m\u001b[1;33m=\u001b[0m\u001b[1;32mNone\u001b[0m\u001b[1;33m)\u001b[0m\u001b[1;33m:\u001b[0m\u001b[1;33m\u001b[0m\u001b[0m\n\u001b[0m\u001b[0;32m    464\u001b[0m     \"\"\"Convert the input to an array.\n\u001b[0;32m    465\u001b[0m \u001b[1;33m\u001b[0m\u001b[0m\n",
      "\u001b[1;31mKeyboardInterrupt\u001b[0m: "
     ]
    }
   ],
   "source": [
    "%%time\n",
    "count_id, count_duplicates, count_reversals, count_subscriptons,count_transactions = 0, 0, 0, 0, 0\n",
    "dollar_duplicates, dollar_reversals, dollar_total = 0, 0, 0\n",
    "print_details = True\n",
    "for pid, df_per_id in df.groupby(['accountNumber']):  # group by account number\n",
    "    count_id += 1\n",
    "    if count_id % 1000 == 5: print(\"The number of loans processed\", count_id)\n",
    "    dollar_total += df_per_id['transactionAmount'].sum()\n",
    "    count_transactions += df_per_id.shape[0]\n",
    "    for group, df_per_per_category in df_per_id.groupby(['merchantName','transactionAmount']): \n",
    "        # candidates for reversal/duplicates transactions if merchantname and amount are the same\n",
    "        if df_per_per_category.shape[0] > 1:\n",
    "            if df_per_per_category.at[df_per_per_category.index[-1], 'transactionType'] == 'REVERSAL':\n",
    "                count_reversals += 1\n",
    "                dollar_reversals += group[1]\n",
    "                if df_per_per_category.shape[0] > 3 and print_details:\n",
    "                    # this invloves both reversal and duplicated transactions and is rare ( so they are ignored for now)\n",
    "                    print(\"This is an example of both reversal and other things\")\n",
    "                    print(\"accountID\", pid, group,count_id)\n",
    "                    print(df_per_per_category[['transactionDateTime','availableMoney','isFraud','transactionType']])\n",
    "                    print()\n",
    "                if count_reversals % 100 == 5 and print_details:\n",
    "                    print(\"This is an example of REVERSALS:\")\n",
    "                    print(\"accountID\", pid, group,count_id)\n",
    "                    print(df_per_per_category[['transactionDateTime','availableMoney','isFraud','transactionType']])\n",
    "                    print()\n",
    "            elif len(set(df_per_per_category['transactionDateTime'].apply(lambda x: x.day))) == 1:\n",
    "            # all transactions happened on the same day\n",
    "                count_duplicates += 1\n",
    "                dollar_duplicates += (df_per_per_category.shape[0] - 1) * group[1]\n",
    "                if  count_duplicates % 100 == 5 and print_details:\n",
    "                    print(\"This is an example of DUPLICATES:\")\n",
    "                    print(\"accountID\", pid, group,count_id)\n",
    "                    print(df_per_per_category[['transactionDateTime','availableMoney','isFraud','transactionType']])\n",
    "                    print()\n",
    "            elif set(df_per_per_category['transactionType']) == set([\"PURCHASE\"]):\n",
    "                # this should be periodic transactions\n",
    "                count_subscriptons += 1\n",
    "                if count_subscriptons % 100 == 5 and print_details:\n",
    "                    print(\"This is an example of periodic subscription:\")\n",
    "                    print(\"accountID\", pid, group,count_id)\n",
    "                    print(df_per_per_category[['transactionDateTime','availableMoney','isFraud','transactionType']])\n",
    "                    print()\n"
   ]
  },
  {
   "cell_type": "code",
   "execution_count": 15,
   "metadata": {},
   "outputs": [
    {
     "name": "stdout",
     "output_type": "stream",
     "text": [
      "The number of                accounts: 5000\n",
      "The percentage of duplicated transactions by  count is  0.88\n",
      "The percentage of duplicated transactions by amount is  1.01\n",
      "The percentage of reversed   transactions by  count is  2.25\n",
      "The percentage of reversed   transactions by amount is  2.44\n"
     ]
    }
   ],
   "source": [
    "print(\"The number of                accounts:\", count_id)\n",
    "print(\"The percentage of duplicated transactions by  count is %5.2f\" % (100*count_duplicates/count_transactions))\n",
    "print(\"The percentage of duplicated transactions by amount is %5.2f\" % (100*dollar_duplicates/dollar_total))\n",
    "print(\"The percentage of reversed   transactions by  count is %5.2f\" % (100*count_reversals/count_transactions))\n",
    "print(\"The percentage of reversed   transactions by amount is %5.2f\" % (100*dollar_reversals/dollar_total))"
   ]
  },
  {
   "cell_type": "markdown",
   "metadata": {},
   "source": [
    "### some insights:\n",
    "1. reversal transactions: can be found through tranaction type and the corresponding purchase can be found using the same account number, merchant  name and purchase amount.\n",
    "- duplicated tranactions: can be found if there are multiple tranactions in a single day for the same acoount number, merchant name and purchase amount\n",
    "- periodic transactions: They look like duplicated transactions but their transactions do not happen within a day, The tranactions dates are perioid (monthly, bi-monthly, weekly etc)"
   ]
  },
  {
   "cell_type": "markdown",
   "metadata": {},
   "source": [
    "## Question 4: Model\n",
    "Fraud is a problem for any bank. Fraud can take many forms, whether it is someone stealing a single credit card, to large batches of stolen credit card numbers being used on the web, or even a mass compromise of credit card numbers stolen from a merchant via tools like credit card skimming devices.\n",
    "\n",
    "Each of the transactions in the dataset has a field called isFraud. Please build a predictive model to determine whether a given transaction will be fraudulent or not. Use as much of the data as you like (or all of it).\n",
    "\n",
    "Provide an estimate of performance using an appropriate sample, and show your work.\n",
    "\n",
    "Please explain your methodology (modeling algorithm/method used and why, what features/data you found useful, what questions you have, and what you would do next with more time)"
   ]
  },
  {
   "cell_type": "markdown",
   "metadata": {},
   "source": [
    "### 4A. feature selection"
   ]
  },
  {
   "cell_type": "code",
   "execution_count": 6,
   "metadata": {},
   "outputs": [
    {
     "name": "stdout",
     "output_type": "stream",
     "text": [
      "The overall fraud rate is: 1.761 percent \n"
     ]
    }
   ],
   "source": [
    "features = []\n",
    "threhold = 0.1 # if any category fraud rate is different from overall fraud rate by 10%, it will be selected as a feature\n",
    "overall_fraud_rate = df['isFraud'].mean() * 100\n",
    "print(\"The overall fraud rate is: %5.3f percent \" % overall_fraud_rate)"
   ]
  },
  {
   "cell_type": "markdown",
   "metadata": {},
   "source": [
    "for categorical columns, we break into categories and select category as feature if the fraud rate in that category is diffent from overall fraud rate. A dummy variable will be created and is appended to feature list"
   ]
  },
  {
   "cell_type": "code",
   "execution_count": 7,
   "metadata": {},
   "outputs": [
    {
     "name": "stdout",
     "output_type": "stream",
     "text": [
      "merchantCategoryCode\n",
      "group name:              airline, fraud percentage: 2.0621, total number:       9990 selected as a feature!\n",
      "group name:                 auto, fraud percentage: 2.0794, total number:      10147 selected as a feature!\n",
      "group name:          cable/phone, fraud percentage: 0.0000, total number:       1490 selected as a feature!\n",
      "group name:        entertainment, fraud percentage: 1.3422, total number:      69138 selected as a feature!\n",
      "group name:             fastfood, fraud percentage: 1.7165, total number:     101196\n",
      "group name:                 food, fraud percentage: 2.0368, total number:      68245 selected as a feature!\n",
      "group name:        food_delivery, fraud percentage: 0.0000, total number:       4990 selected as a feature!\n",
      "group name:                 fuel, fraud percentage: 0.0000, total number:      22566 selected as a feature!\n",
      "group name:            furniture, fraud percentage: 1.2799, total number:       7813 selected as a feature!\n",
      "group name:                  gym, fraud percentage: 0.0000, total number:       2874 selected as a feature!\n",
      "group name:               health, fraud percentage: 1.9172, total number:      14344\n",
      "group name:               hotels, fraud percentage: 2.8410, total number:      22879 selected as a feature!\n",
      "group name:           mobileapps, fraud percentage: 0.0000, total number:      14614 selected as a feature!\n",
      "group name:         online_gifts, fraud percentage: 1.9791, total number:      33045 selected as a feature!\n",
      "group name:        online_retail, fraud percentage: 2.2586, total number:     161469 selected as a feature!\n",
      "group name: online_subscriptions, fraud percentage: 0.0000, total number:      11247 selected as a feature!\n",
      "group name:        personal care, fraud percentage: 1.2059, total number:      16917 selected as a feature!\n",
      "group name:            rideshare, fraud percentage: 2.2245, total number:      50574 selected as a feature!\n",
      "group name:        subscriptions, fraud percentage: 0.9523, total number:      18376 selected as a feature!\n",
      "\n",
      "posConditionCode\n",
      "group name:                   01, fraud percentage: 1.8250, total number:     514144\n",
      "group name:                   08, fraud percentage: 1.3876, total number:     121507 selected as a feature!\n",
      "group name:                   99, fraud percentage: 3.6814, total number:       5976 selected as a feature!\n",
      "\n",
      "posEntryMode\n",
      "group name:                   02, fraud percentage: 1.9055, total number:     160589\n",
      "group name:                   05, fraud percentage: 0.8137, total number:     255615 selected as a feature!\n",
      "group name:                   09, fraud percentage: 2.7884, total number:     193193 selected as a feature!\n",
      "group name:                   80, fraud percentage: 1.4627, total number:      12921 selected as a feature!\n",
      "group name:                   90, fraud percentage: 2.0183, total number:      16251 selected as a feature!\n",
      "\n",
      "transactionType\n",
      "group name: ADDRESS_VERIFICATION, fraud percentage: 0.5280, total number:      16478 selected as a feature!\n",
      "group name:             PURCHASE, fraud percentage: 1.7924, total number:     608685\n",
      "group name:             REVERSAL, fraud percentage: 1.8129, total number:      16162\n",
      "\n",
      "expirationDateKeyInMatch\n",
      "group name:                False, fraud percentage: 1.7613, total number:     640945\n",
      "group name:                 True, fraud percentage: 1.3416, total number:        969 selected as a feature!\n",
      "\n",
      "cardPresent\n",
      "group name:                False, fraud percentage: 1.9456, total number:     340453\n",
      "group name:                 True, fraud percentage: 1.5518, total number:     301461 selected as a feature!\n",
      "\n"
     ]
    }
   ],
   "source": [
    "for col in ['merchantCategoryCode', 'posConditionCode','posEntryMode','transactionType',\n",
    "            'expirationDateKeyInMatch','cardPresent']:\n",
    "    print(col)\n",
    "    for group, sub_df in df.groupby(col):\n",
    "        fraud_rate = sub_df['isFraud'].mean() * 100\n",
    "        if abs((fraud_rate - overall_fraud_rate)/overall_fraud_rate) > threhold and group:\n",
    "            col_name = col + \"_\" + str(group)\n",
    "            df[col_name] = (df[col] == group)  # generate dummy columns\n",
    "            features.append(col_name)\n",
    "            print(\"group name: %20s, fraud percentage: %5.4f, total number: %10d selected as a feature!\" % (group, fraud_rate, sub_df.shape[0]))\n",
    "        else:\n",
    "            print(\"group name: %20s, fraud percentage: %5.4f, total number: %10d\" % (group, fraud_rate, sub_df.shape[0]))\n",
    "    print()\n"
   ]
  },
  {
   "cell_type": "markdown",
   "metadata": {},
   "source": [
    "### let us do some feature engineering"
   ]
  },
  {
   "cell_type": "code",
   "execution_count": 18,
   "metadata": {},
   "outputs": [
    {
     "data": {
      "text/plain": [
       "0    735\n",
       "1    736\n",
       "2    738\n",
       "Name: days_open, dtype: int64"
      ]
     },
     "execution_count": 18,
     "metadata": {},
     "output_type": "execute_result"
    }
   ],
   "source": [
    "df['days_open'] = (df['transactionDateTime'] - df['accountOpenDate']).apply(lambda x: x.days)\n",
    "df['days_open'].head(3)"
   ]
  },
  {
   "cell_type": "markdown",
   "metadata": {},
   "source": [
    "There are other features we can generate like this, but we will skip it here.  \n",
    "for continous varibles, we break into 8 pieces (by quantitles) and do exactly the same thing as above "
   ]
  },
  {
   "cell_type": "code",
   "execution_count": 19,
   "metadata": {},
   "outputs": [
    {
     "name": "stdout",
     "output_type": "stream",
     "text": [
      "transactionAmount\n",
      "group name:      (-0.001, 12.22], fraud percentage: 0.4458, total number:      80298 selected as a feature!\n",
      "group name:       (12.22, 32.32], fraud percentage: 0.6372, total number:      80193 selected as a feature!\n",
      "group name:       (32.32, 55.33], fraud percentage: 0.8937, total number:      80232 selected as a feature!\n",
      "group name:        (55.33, 85.8], fraud percentage: 1.2947, total number:      80248 selected as a feature!\n",
      "group name:       (85.8, 128.42], fraud percentage: 1.7012, total number:      80238\n",
      "group name:     (128.42, 189.03], fraud percentage: 2.2011, total number:      80232 selected as a feature!\n",
      "group name:     (189.03, 292.87], fraud percentage: 2.7781, total number:      80236 selected as a feature!\n",
      "group name:    (292.87, 1825.25], fraud percentage: 4.1340, total number:      80237 selected as a feature!\n",
      "\n",
      "availableMoney\n",
      "group name: (-1244.931, 411.142], fraud percentage: 1.5229, total number:      80240 selected as a feature!\n",
      "group name:   (411.142, 1114.97], fraud percentage: 1.7822, total number:      80240\n",
      "group name:  (1114.97, 2160.674], fraud percentage: 1.8370, total number:      80238\n",
      "group name: (2160.674, 3578.165], fraud percentage: 1.8482, total number:      80239\n",
      "group name: (3578.165, 5152.211], fraud percentage: 1.8482, total number:      80239\n",
      "group name: (5152.211, 8169.185], fraud percentage: 1.7635, total number:      80239\n",
      "group name: (8169.185, 14376.134], fraud percentage: 1.6974, total number:      80239\n",
      "group name: (14376.134, 50000.0], fraud percentage: 1.7859, total number:      80240\n",
      "\n",
      "currentBalance\n",
      "group name:     (-0.001, 148.29], fraud percentage: 1.4058, total number:      80241 selected as a feature!\n",
      "group name:    (148.29, 502.442], fraud percentage: 1.5965, total number:      80238\n",
      "group name:   (502.442, 1198.44], fraud percentage: 1.6625, total number:      80240\n",
      "group name:   (1198.44, 2151.86], fraud percentage: 1.7759, total number:      80239\n",
      "group name:  (2151.86, 3496.776], fraud percentage: 1.8557, total number:      80238\n",
      "group name:  (3496.776, 5005.89], fraud percentage: 1.8245, total number:      80239\n",
      "group name:  (5005.89, 8501.276], fraud percentage: 2.0576, total number:      80239 selected as a feature!\n",
      "group name:  (8501.276, 47496.5], fraud percentage: 1.9068, total number:      80240\n",
      "\n",
      "days_open\n",
      "group name:     (334.999, 474.0], fraud percentage: 2.0029, total number:      80881 selected as a feature!\n",
      "group name:       (474.0, 590.0], fraud percentage: 1.6604, total number:      80099\n",
      "group name:       (590.0, 700.0], fraud percentage: 1.5382, total number:      79766 selected as a feature!\n",
      "group name:       (700.0, 892.0], fraud percentage: 1.7983, total number:      80466\n",
      "group name:      (892.0, 1082.0], fraud percentage: 1.7885, total number:      80181\n",
      "group name:     (1082.0, 1382.0], fraud percentage: 1.9250, total number:      80154\n",
      "group name:     (1382.0, 1820.0], fraud percentage: 1.5966, total number:      80168\n",
      "group name:    (1820.0, 11654.0], fraud percentage: 1.7718, total number:      80199\n",
      "\n"
     ]
    }
   ],
   "source": [
    "for continous_col in ['transactionAmount','availableMoney','currentBalance','days_open']:\n",
    "    print(continous_col)\n",
    "    for group, sub_df in df.groupby(pd.qcut(df[continous_col], 8)):\n",
    "        fraud_rate = sub_df['isFraud'].mean() * 100\n",
    "        if abs((fraud_rate - overall_fraud_rate)/overall_fraud_rate) > threhold:\n",
    "            col_name = continous_col + \"_\" + str(group.left) + \"_\" + str(group.right)\n",
    "            df[col_name] = df[col].apply(lambda x: x in group)  # generate dummy columns\n",
    "            features.append(col_name)\n",
    "            print(\"group name: %20s, fraud percentage: %5.4f, total number: %10d selected as a feature!\" % (group, fraud_rate, sub_df.shape[0]))\n",
    "        else:\n",
    "            print(\"group name: %20s, fraud percentage: %5.4f, total number: %10d\" % (group, fraud_rate, sub_df.shape[0]))\n",
    "    print()"
   ]
  },
  {
   "cell_type": "markdown",
   "metadata": {},
   "source": [
    "### 4B: split data into training and testing"
   ]
  },
  {
   "cell_type": "code",
   "execution_count": 8,
   "metadata": {
    "collapsed": true,
    "jupyter": {
     "outputs_hidden": true
    }
   },
   "outputs": [],
   "source": [
    "from sklearn.model_selection import train_test_split\n",
    "X_train, X_test, y_train, y_test = train_test_split(df[features], df['isFraud'], test_size=0.1, random_state=42)"
   ]
  },
  {
   "cell_type": "markdown",
   "metadata": {},
   "source": [
    "### 4C: hyperparameter tuning using grid search (logistic regression)"
   ]
  },
  {
   "cell_type": "code",
   "execution_count": 9,
   "metadata": {},
   "outputs": [
    {
     "name": "stdout",
     "output_type": "stream",
     "text": [
      "Wall time: 33.1 s\n"
     ]
    }
   ],
   "source": [
    "%%time\n",
    "from sklearn.linear_model import LogisticRegression\n",
    "from sklearn.model_selection import GridSearchCV\n",
    "param_grid = {'C': [10,100,1000,10000]}\n",
    "grid = GridSearchCV(LogisticRegression(), param_grid, cv = 3, scoring ='neg_log_loss')\n",
    "grid.fit(X_train, y_train)\n",
    "grid.best_params_"
   ]
  },
  {
   "cell_type": "code",
   "execution_count": 10,
   "metadata": {},
   "outputs": [
    {
     "data": {
      "text/plain": [
       "{'C': 10000}"
      ]
     },
     "execution_count": 10,
     "metadata": {},
     "output_type": "execute_result"
    }
   ],
   "source": [
    "grid.best_params_"
   ]
  },
  {
   "cell_type": "markdown",
   "metadata": {},
   "source": [
    "### 4D: build a logistic regression and study coeffieients ( see signs/magnitude of important features )"
   ]
  },
  {
   "cell_type": "code",
   "execution_count": 11,
   "metadata": {
    "scrolled": true
   },
   "outputs": [
    {
     "name": "stdout",
     "output_type": "stream",
     "text": [
      "feature name:               merchantCategoryCode_mobileapps, coefficient:  -9.351251\n",
      "feature name:                     merchantCategoryCode_fuel, coefficient:  -9.311420\n",
      "feature name:     merchantCategoryCode_online_subscriptions, coefficient:  -9.109523\n",
      "feature name:            merchantCategoryCode_food_delivery, coefficient:  -8.312859\n",
      "feature name:                      merchantCategoryCode_gym, coefficient:  -7.660397\n",
      "feature name:              merchantCategoryCode_cable/phone, coefficient:  -7.068029\n",
      "feature name:          transactionType_ADDRESS_VERIFICATION, coefficient:  -1.603076\n",
      "feature name:            merchantCategoryCode_subscriptions, coefficient:  -0.933210\n",
      "feature name:                               posEntryMode_05, coefficient:  -0.931062\n",
      "feature name:                           posConditionCode_99, coefficient:   0.769601\n",
      "feature name:                              cardPresent_True, coefficient:  -0.510617\n",
      "feature name:                   merchantCategoryCode_hotels, coefficient:   0.456705\n",
      "feature name:                               posEntryMode_80, coefficient:  -0.353877\n",
      "feature name:                               posEntryMode_09, coefficient:   0.326240\n",
      "feature name:             merchantCategoryCode_online_gifts, coefficient:  -0.291373\n",
      "feature name:                           posConditionCode_08, coefficient:  -0.272533\n",
      "feature name:            merchantCategoryCode_personal care, coefficient:  -0.267567\n",
      "feature name:                     merchantCategoryCode_food, coefficient:   0.234730\n",
      "feature name:            merchantCategoryCode_entertainment, coefficient:  -0.230354\n",
      "feature name:                merchantCategoryCode_furniture, coefficient:  -0.224523\n",
      "feature name:                     merchantCategoryCode_auto, coefficient:   0.207982\n",
      "feature name:                merchantCategoryCode_rideshare, coefficient:  -0.199526\n",
      "feature name:                  merchantCategoryCode_airline, coefficient:  -0.195876\n",
      "feature name:            merchantCategoryCode_online_retail, coefficient:  -0.175195\n",
      "feature name:                               posEntryMode_90, coefficient:  -0.015466\n",
      "feature name:                 expirationDateKeyInMatch_True, coefficient:  -0.001881\n"
     ]
    }
   ],
   "source": [
    "best_C_model =  LogisticRegression(C = grid.best_params_['C'])\n",
    "best_C_model.fit(X_train, y_train)\n",
    "# selected features are:\n",
    "for name, coef in sorted(zip(X_train.columns, best_C_model.coef_[0]), key = lambda x: -abs(x[1])):\n",
    "    print(\"feature name: %45s, coefficient: %10.6f\" % (name, coef))"
   ]
  },
  {
   "cell_type": "markdown",
   "metadata": {},
   "source": [
    "### 4E: build a random forest model with grid search on hyperparameters"
   ]
  },
  {
   "cell_type": "code",
   "execution_count": 12,
   "metadata": {},
   "outputs": [
    {
     "name": "stdout",
     "output_type": "stream",
     "text": [
      "{'max_depth': 3, 'n_estimators': 500, 'n_jobs': -1}\n",
      "Wall time: 7min 34s\n"
     ]
    }
   ],
   "source": [
    "%%time\n",
    "from sklearn.ensemble import RandomForestClassifier\n",
    "param_grid = {'n_estimators': [200,500], 'max_depth':[2, 3], 'n_jobs': [-1]}\n",
    "grid = GridSearchCV(RandomForestClassifier(), param_grid, cv = 3, scoring ='neg_log_loss')\n",
    "grid.fit(X_train, y_train)\n",
    "print(grid.best_params_)"
   ]
  },
  {
   "cell_type": "code",
   "execution_count": 13,
   "metadata": {},
   "outputs": [
    {
     "data": {
      "text/plain": [
       "RandomForestClassifier(bootstrap=True, class_weight=None, criterion='gini',\n",
       "            max_depth=3, max_features='auto', max_leaf_nodes=None,\n",
       "            min_impurity_decrease=0.0, min_impurity_split=None,\n",
       "            min_samples_leaf=1, min_samples_split=2,\n",
       "            min_weight_fraction_leaf=0.0, n_estimators=500, n_jobs=-1,\n",
       "            oob_score=False, random_state=None, verbose=0,\n",
       "            warm_start=False)"
      ]
     },
     "execution_count": 13,
     "metadata": {},
     "output_type": "execute_result"
    }
   ],
   "source": [
    "rf_model =  RandomForestClassifier(**grid.best_params_)\n",
    "rf_model.fit(X_train, y_train)"
   ]
  },
  {
   "cell_type": "code",
   "execution_count": 14,
   "metadata": {},
   "outputs": [
    {
     "name": "stdout",
     "output_type": "stream",
     "text": [
      "feature name:                               posEntryMode_05, coefficient:   0.371663\n",
      "feature name:                               posEntryMode_09, coefficient:   0.261441\n",
      "feature name:                     merchantCategoryCode_fuel, coefficient:   0.097588\n",
      "feature name:            merchantCategoryCode_online_retail, coefficient:   0.058146\n",
      "feature name:               merchantCategoryCode_mobileapps, coefficient:   0.052991\n",
      "feature name:     merchantCategoryCode_online_subscriptions, coefficient:   0.033944\n",
      "feature name:          transactionType_ADDRESS_VERIFICATION, coefficient:   0.024357\n",
      "feature name:                           posConditionCode_99, coefficient:   0.022661\n",
      "feature name:                   merchantCategoryCode_hotels, coefficient:   0.021195\n",
      "feature name:                              cardPresent_True, coefficient:   0.016070\n",
      "feature name:                           posConditionCode_08, coefficient:   0.011899\n",
      "feature name:            merchantCategoryCode_food_delivery, coefficient:   0.007348\n",
      "feature name:                     merchantCategoryCode_food, coefficient:   0.005023\n",
      "feature name:                merchantCategoryCode_rideshare, coefficient:   0.004573\n",
      "feature name:            merchantCategoryCode_entertainment, coefficient:   0.002998\n",
      "feature name:            merchantCategoryCode_subscriptions, coefficient:   0.002379\n",
      "feature name:                               posEntryMode_90, coefficient:   0.002020\n",
      "feature name:                      merchantCategoryCode_gym, coefficient:   0.001547\n",
      "feature name:            merchantCategoryCode_personal care, coefficient:   0.000656\n",
      "feature name:             merchantCategoryCode_online_gifts, coefficient:   0.000480\n",
      "feature name:                     merchantCategoryCode_auto, coefficient:   0.000375\n",
      "feature name:                               posEntryMode_80, coefficient:   0.000243\n",
      "feature name:                  merchantCategoryCode_airline, coefficient:   0.000132\n",
      "feature name:              merchantCategoryCode_cable/phone, coefficient:   0.000110\n",
      "feature name:                merchantCategoryCode_furniture, coefficient:   0.000097\n",
      "feature name:                 expirationDateKeyInMatch_True, coefficient:   0.000065\n"
     ]
    }
   ],
   "source": [
    "for col, importance in sorted(zip(X_train.columns, rf_model.feature_importances_), key = lambda x: -abs(x[1])):\n",
    "    print(\"feature name: %45s, coefficient: %10.6f\" % (col, importance))"
   ]
  },
  {
   "cell_type": "markdown",
   "metadata": {},
   "source": [
    "### 4F: model comparison using AUC of ROC curve"
   ]
  },
  {
   "cell_type": "code",
   "execution_count": 17,
   "metadata": {
    "collapsed": true,
    "jupyter": {
     "outputs_hidden": true
    }
   },
   "outputs": [],
   "source": [
    "from sklearn import metrics\n",
    "import matplotlib.pyplot as plt\n",
    "def plot_roc(actuals, predicted_dict):\n",
    "    plt.title('Receiver Operating Characteristic')\n",
    "    plt.plot([0, 1], [0, 1],'r--')\n",
    "    plt.xlim([0, 1])\n",
    "    plt.ylim([0, 1])\n",
    "    plt.ylabel('True Positive Rate')\n",
    "    plt.xlabel('False Positive Rate')\n",
    "    for key, predicted in predicted_dict.items():\n",
    "        fpr, tpr, threshold = metrics.roc_curve(actuals, predicted)\n",
    "        roc_auc = metrics.auc(fpr, tpr)\n",
    "        plt.plot(fpr, tpr, label = '%25s AUC = %0.2f' % (key, roc_auc))\n",
    "    plt.legend(loc = 'lower right')\n",
    "    plt.show()"
   ]
  },
  {
   "cell_type": "code",
   "execution_count": 18,
   "metadata": {},
   "outputs": [
    {
     "data": {
      "image/png": "[encoded data removed]",
      "text/plain": [
       "<matplotlib.figure.Figure at 0x829ec18>"
      ]
     },
     "metadata": {},
     "output_type": "display_data"
    }
   ],
   "source": [
    "logistic_pred = best_C_model.predict_proba(X_test)[:,1]\n",
    "rf_pred = rf_model.predict_proba(X_test)[:,1]\n",
    "plot_roc(y_test, {\"Logistic regression\": logistic_pred, 'random forest':rf_pred})"
   ]
  },
  {
   "cell_type": "markdown",
   "metadata": {},
   "source": [
    "### Conclusion:\n",
    "It is clear our logistic regression performs better than random forest (a larger AUC value). It takes less time to train and it is also simpler to interpret and implement."
   ]
  },
  {
   "cell_type": "markdown",
   "metadata": {},
   "source": [
    "### 4G: furthur work\n",
    "- feature engineering: derive features like how long the account is open, the hour/weekday of the transation etc..\n",
    "- study interaction effects and correlation effects among some features\n",
    "- spend more time on hyperparameter tuning in random forest and other complex models\n",
    "- define a custom performance measure, use cost/benefit analysis to assign different weights on each misclassified label based on transaction amount, which error it is etc.. Use this custom measure to evaluate models"
   ]
  }
 ],
 "metadata": {
  "kernelspec": {
   "display_name": "Python 3",
   "language": "python",
   "name": "python3"
  },
  "language_info": {
   "codemirror_mode": {
    "name": "ipython",
    "version": 3
   },
   "file_extension": ".py",
   "mimetype": "text/x-python",
   "name": "python",
   "nbconvert_exporter": "python",
   "pygments_lexer": "ipython3",
   "version": "3.6.9"
  }
 },
 "nbformat": 4,
 "nbformat_minor": 4
}
