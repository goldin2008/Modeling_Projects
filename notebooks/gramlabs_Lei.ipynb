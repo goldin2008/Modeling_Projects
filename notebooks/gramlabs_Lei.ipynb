{
 "cells": [
  {
   "cell_type": "markdown",
   "metadata": {},
   "source": [
    "## Outline\n",
    "\n",
    "**1. Get and Load data**\n",
    "\n",
    "**2. Preprocess Data** \n",
    "\n",
    "**3. Analyze Data**\n",
    "\n",
    "**4. Modeling**  \n",
    "\n",
    "**5. Conclusion and Discussion**  \n",
    "\n",
    "**6. Future Work**  "
   ]
  },
  {
   "cell_type": "code",
   "execution_count": 2,
   "metadata": {},
   "outputs": [
    {
     "name": "stdout",
     "output_type": "stream",
     "text": [
      "Python version 3.6.1 |Anaconda 4.4.0 (x86_64)| (default, May 11 2017, 13:04:09) \n",
      "[GCC 4.2.1 Compatible Apple LLVM 6.0 (clang-600.0.57)]\n",
      "Pandas version: 0.20.1\n",
      "Matplotlib version 2.0.2\n"
     ]
    }
   ],
   "source": [
    "# Import libraries\n",
    "import json\n",
    "import gzip\n",
    "import sys\n",
    "import pandas as pd\n",
    "import matplotlib\n",
    "import matplotlib.pyplot as plt\n",
    "import string\n",
    "import nltk\n",
    "from nltk.corpus import stopwords\n",
    "from sklearn.model_selection import train_test_split\n",
    "from IPython.display import display\n",
    "import numpy as np\n",
    "plt.style.use('ggplot')\n",
    "\n",
    "import warnings\n",
    "from sklearn.feature_extraction.text import TfidfVectorizer\n",
    "from bs4 import BeautifulSoup\n",
    "import re\n",
    "from sklearn.grid_search import GridSearchCV\n",
    "from sklearn.linear_model import LogisticRegression, SGDClassifier\n",
    "from sklearn.metrics import accuracy_score, classification_report, confusion_matrix, f1_score\n",
    "from sklearn.naive_bayes import MultinomialNB\n",
    "from wordcloud import STOPWORDS, WordCloud\n",
    "import sklearn\n",
    "\n",
    "%matplotlib inline\n",
    "# print(plt.style.available)\n",
    "print('Python version ' + sys.version)\n",
    "print('Pandas version: ' + pd.__version__)\n",
    "print('Matplotlib version ' + matplotlib.__version__)"
   ]
  },
  {
   "cell_type": "markdown",
   "metadata": {},
   "source": [
    "## ETL (Extract, Transform, Load Data)"
   ]
  },
  {
   "cell_type": "code",
   "execution_count": 3,
   "metadata": {
    "collapsed": true,
    "jupyter": {
     "outputs_hidden": true
    }
   },
   "outputs": [],
   "source": [
    "def parse(path):\n",
    "    g = gzip.open(path, 'rb')\n",
    "    for l in g:\n",
    "        yield eval(l)\n",
    "\n",
    "def getDF(path):\n",
    "    i = 0\n",
    "    df = {}\n",
    "    for d in parse(path):\n",
    "        df[i] = d\n",
    "        i += 1\n",
    "    return pd.DataFrame.from_dict(df, orient='index')\n",
    "df = getDF('reviews_Movies_and_TV_5.json.gz')"
   ]
  },
  {
   "cell_type": "code",
   "execution_count": 4,
   "metadata": {
    "collapsed": true,
    "jupyter": {
     "outputs_hidden": true
    }
   },
   "outputs": [],
   "source": [
    "data_ = df"
   ]
  },
  {
   "cell_type": "code",
   "execution_count": 5,
   "metadata": {
    "collapsed": true,
    "jupyter": {
     "outputs_hidden": true
    }
   },
   "outputs": [],
   "source": [
    "def clean_text(string): \n",
    "    string = re.sub(\"[^a-zA-Z]\",\" \", string)\n",
    "    string = string.lower() \n",
    "    return string"
   ]
  },
  {
   "cell_type": "code",
   "execution_count": 6,
   "metadata": {},
   "outputs": [
    {
     "data": {
      "text/html": [
       "<div>\n",
       "<style>\n",
       "    .dataframe thead tr:only-child th {\n",
       "        text-align: right;\n",
       "    }\n",
       "\n",
       "    .dataframe thead th {\n",
       "        text-align: left;\n",
       "    }\n",
       "\n",
       "    .dataframe tbody tr th {\n",
       "        vertical-align: top;\n",
       "    }\n",
       "</style>\n",
       "<table border=\"1\" class=\"dataframe\">\n",
       "  <thead>\n",
       "    <tr style=\"text-align: right;\">\n",
       "      <th></th>\n",
       "      <th>reviewerID</th>\n",
       "      <th>asin</th>\n",
       "      <th>reviewerName</th>\n",
       "      <th>helpful</th>\n",
       "      <th>reviewText</th>\n",
       "      <th>overall</th>\n",
       "      <th>summary</th>\n",
       "      <th>unixReviewTime</th>\n",
       "      <th>reviewTime</th>\n",
       "    </tr>\n",
       "  </thead>\n",
       "  <tbody>\n",
       "    <tr>\n",
       "      <th>0</th>\n",
       "      <td>ADZPIG9QOCDG5</td>\n",
       "      <td>0005019281</td>\n",
       "      <td>Alice L. Larson \"alice-loves-books\"</td>\n",
       "      <td>[0, 0]</td>\n",
       "      <td>This is a charming version of the classic Dick...</td>\n",
       "      <td>4.0</td>\n",
       "      <td>good version of a classic</td>\n",
       "      <td>1203984000</td>\n",
       "      <td>02 26, 2008</td>\n",
       "    </tr>\n",
       "    <tr>\n",
       "      <th>1</th>\n",
       "      <td>A35947ZP82G7JH</td>\n",
       "      <td>0005019281</td>\n",
       "      <td>Amarah Strack</td>\n",
       "      <td>[0, 0]</td>\n",
       "      <td>It was good but not as emotionally moving as t...</td>\n",
       "      <td>3.0</td>\n",
       "      <td>Good but not as moving</td>\n",
       "      <td>1388361600</td>\n",
       "      <td>12 30, 2013</td>\n",
       "    </tr>\n",
       "    <tr>\n",
       "      <th>2</th>\n",
       "      <td>A3UORV8A9D5L2E</td>\n",
       "      <td>0005019281</td>\n",
       "      <td>Amazon Customer</td>\n",
       "      <td>[0, 0]</td>\n",
       "      <td>Don't get me wrong, Winkler is a wonderful cha...</td>\n",
       "      <td>3.0</td>\n",
       "      <td>Winkler's Performance was ok at best!</td>\n",
       "      <td>1388361600</td>\n",
       "      <td>12 30, 2013</td>\n",
       "    </tr>\n",
       "    <tr>\n",
       "      <th>3</th>\n",
       "      <td>A1VKW06X1O2X7V</td>\n",
       "      <td>0005019281</td>\n",
       "      <td>Amazon Customer \"Softmill\"</td>\n",
       "      <td>[0, 0]</td>\n",
       "      <td>Henry Winkler is very good in this twist on th...</td>\n",
       "      <td>5.0</td>\n",
       "      <td>It's an enjoyable twist on the classic story</td>\n",
       "      <td>1202860800</td>\n",
       "      <td>02 13, 2008</td>\n",
       "    </tr>\n",
       "    <tr>\n",
       "      <th>4</th>\n",
       "      <td>A3R27T4HADWFFJ</td>\n",
       "      <td>0005019281</td>\n",
       "      <td>BABE</td>\n",
       "      <td>[0, 0]</td>\n",
       "      <td>This is one of the best Scrooge movies out.  H...</td>\n",
       "      <td>4.0</td>\n",
       "      <td>Best Scrooge yet</td>\n",
       "      <td>1387670400</td>\n",
       "      <td>12 22, 2013</td>\n",
       "    </tr>\n",
       "  </tbody>\n",
       "</table>\n",
       "</div>"
      ],
      "text/plain": [
       "       reviewerID        asin                         reviewerName helpful  \\\n",
       "0   ADZPIG9QOCDG5  0005019281  Alice L. Larson \"alice-loves-books\"  [0, 0]   \n",
       "1  A35947ZP82G7JH  0005019281                        Amarah Strack  [0, 0]   \n",
       "2  A3UORV8A9D5L2E  0005019281                      Amazon Customer  [0, 0]   \n",
       "3  A1VKW06X1O2X7V  0005019281           Amazon Customer \"Softmill\"  [0, 0]   \n",
       "4  A3R27T4HADWFFJ  0005019281                                 BABE  [0, 0]   \n",
       "\n",
       "                                          reviewText  overall  \\\n",
       "0  This is a charming version of the classic Dick...      4.0   \n",
       "1  It was good but not as emotionally moving as t...      3.0   \n",
       "2  Don't get me wrong, Winkler is a wonderful cha...      3.0   \n",
       "3  Henry Winkler is very good in this twist on th...      5.0   \n",
       "4  This is one of the best Scrooge movies out.  H...      4.0   \n",
       "\n",
       "                                        summary  unixReviewTime   reviewTime  \n",
       "0                     good version of a classic      1203984000  02 26, 2008  \n",
       "1                        Good but not as moving      1388361600  12 30, 2013  \n",
       "2         Winkler's Performance was ok at best!      1388361600  12 30, 2013  \n",
       "3  It's an enjoyable twist on the classic story      1202860800  02 13, 2008  \n",
       "4                              Best Scrooge yet      1387670400  12 22, 2013  "
      ]
     },
     "execution_count": 6,
     "metadata": {},
     "output_type": "execute_result"
    }
   ],
   "source": [
    "data = data_[:70000]\n",
    "data.head()"
   ]
  },
  {
   "cell_type": "code",
   "execution_count": 7,
   "metadata": {
    "collapsed": true,
    "jupyter": {
     "outputs_hidden": true
    }
   },
   "outputs": [],
   "source": [
    "ratings = data['overall']\n",
    "data = data[data['reviewText'].isnull()==False]\n",
    "reviews = map(clean_text, data['reviewText'])"
   ]
  },
  {
   "cell_type": "code",
   "execution_count": 8,
   "metadata": {},
   "outputs": [
    {
     "data": {
      "text/plain": [
       "0    4.0\n",
       "1    3.0\n",
       "2    3.0\n",
       "3    5.0\n",
       "4    4.0\n",
       "Name: overall, dtype: float64"
      ]
     },
     "execution_count": 8,
     "metadata": {},
     "output_type": "execute_result"
    }
   ],
   "source": [
    "ratings.head()"
   ]
  },
  {
   "cell_type": "markdown",
   "metadata": {},
   "source": [
    "## EXPLORATORY ANALYSIS"
   ]
  },
  {
   "cell_type": "code",
   "execution_count": 9,
   "metadata": {},
   "outputs": [
    {
     "name": "stdout",
     "output_type": "stream",
     "text": [
      "<class 'pandas.core.frame.DataFrame'>\n",
      "Int64Index: 70000 entries, 0 to 69999\n",
      "Data columns (total 9 columns):\n",
      "reviewerID        70000 non-null object\n",
      "asin              70000 non-null object\n",
      "reviewerName      69136 non-null object\n",
      "helpful           70000 non-null object\n",
      "reviewText        70000 non-null object\n",
      "overall           70000 non-null float64\n",
      "summary           70000 non-null object\n",
      "unixReviewTime    70000 non-null int64\n",
      "reviewTime        70000 non-null object\n",
      "dtypes: float64(1), int64(1), object(7)\n",
      "memory usage: 5.3+ MB\n"
     ]
    }
   ],
   "source": [
    "data.info()"
   ]
  },
  {
   "cell_type": "code",
   "execution_count": 10,
   "metadata": {},
   "outputs": [
    {
     "data": {
      "text/plain": [
       "reviewerID          0\n",
       "asin                0\n",
       "reviewerName      864\n",
       "helpful             0\n",
       "reviewText          0\n",
       "overall             0\n",
       "summary             0\n",
       "unixReviewTime      0\n",
       "reviewTime          0\n",
       "dtype: int64"
      ]
     },
     "execution_count": 10,
     "metadata": {},
     "output_type": "execute_result"
    }
   ],
   "source": [
    "data.isnull().sum()"
   ]
  },
  {
   "cell_type": "markdown",
   "metadata": {},
   "source": [
    "We could see reviewerName has many nulls."
   ]
  },
  {
   "cell_type": "code",
   "execution_count": 11,
   "metadata": {},
   "outputs": [
    {
     "name": "stdout",
     "output_type": "stream",
     "text": [
      "count    70000.00\n",
      "mean         4.27\n",
      "std          1.11\n",
      "min          1.00\n",
      "25%          4.00\n",
      "50%          5.00\n",
      "75%          5.00\n",
      "max          5.00\n",
      "Name: overall, dtype: float64\n"
     ]
    },
    {
     "data": {
      "text/plain": [
       "<matplotlib.text.Text at 0x1783b8518>"
      ]
     },
     "execution_count": 11,
     "metadata": {},
     "output_type": "execute_result"
    },
    {
     "data": {
      "image/png": "[encoded data removed]",
      "text/plain": [
       "<matplotlib.figure.Figure at 0x11a3602b0>"
      ]
     },
     "metadata": {},
     "output_type": "display_data"
    }
   ],
   "source": [
    "print(data[\"overall\"].describe().round(2))\n",
    "a=[int(i) for i in data[\"overall\"]]\n",
    "bins=range(1,7)\n",
    "fig, ax = plt.subplots(1,1)\n",
    "ax.hist(a, bins=bins, align='left', rwidth=0.7)\n",
    "ax.set_xticks(bins[:-1])\n",
    "plt.title(\"Rating Distribution\")\n",
    "plt.xlabel(\"Rating\")\n",
    "plt.ylabel(\"Count\")"
   ]
  },
  {
   "cell_type": "code",
   "execution_count": 12,
   "metadata": {},
   "outputs": [
    {
     "name": "stdout",
     "output_type": "stream",
     "text": [
      "count    993.00\n",
      "mean       4.16\n",
      "std        0.48\n",
      "min        1.80\n",
      "25%        3.92\n",
      "50%        4.26\n",
      "75%        4.51\n",
      "max        5.00\n",
      "Name: overall, dtype: float64\n"
     ]
    },
    {
     "data": {
      "text/plain": [
       "<matplotlib.text.Text at 0x17bcbe780>"
      ]
     },
     "execution_count": 12,
     "metadata": {},
     "output_type": "execute_result"
    },
    {
     "data": {
      "image/png": "[encoded data removed]",
      "text/plain": [
       "<matplotlib.figure.Figure at 0x11a32dac8>"
      ]
     },
     "metadata": {},
     "output_type": "display_data"
    }
   ],
   "source": [
    "average_note_byproduct=data[[\"asin\",\"overall\"]].groupby(\"asin\", as_index=False).mean()\n",
    "print(average_note_byproduct[\"overall\"].describe().round(2))\n",
    "bins=range(1,7)\n",
    "fig, ax = plt.subplots(1,1)\n",
    "ax.hist(average_note_byproduct[\"overall\"], bins=bins, align='left', rwidth=0.7)\n",
    "ax.set_xticks(bins[:-1])\n",
    "plt.title(\"Product Rating Distribution\")\n",
    "plt.xlabel(\"Rating\")\n",
    "plt.ylabel(\"Number of Products\")"
   ]
  },
  {
   "cell_type": "code",
   "execution_count": 13,
   "metadata": {},
   "outputs": [
    {
     "name": "stdout",
     "output_type": "stream",
     "text": [
      "count    33580.00\n",
      "mean         2.08\n",
      "std          4.13\n",
      "min          1.00\n",
      "25%          1.00\n",
      "50%          1.00\n",
      "75%          2.00\n",
      "max        172.00\n",
      "dtype: float64\n"
     ]
    },
    {
     "data": {
      "text/plain": [
       "<matplotlib.text.Text at 0x17008ec18>"
      ]
     },
     "execution_count": 13,
     "metadata": {},
     "output_type": "execute_result"
    },
    {
     "data": {
      "image/png": "[encoded data removed]",
      "text/plain": [
       "<matplotlib.figure.Figure at 0x167cc52e8>"
      ]
     },
     "metadata": {},
     "output_type": "display_data"
    }
   ],
   "source": [
    "import collections\n",
    "Nbreview_by_user=collections.Counter(data[\"reviewerID\"])\n",
    "print(pd.Series(Nbreview_by_user).describe().round(2))\n",
    "bins=range(1,10,1)\n",
    "a = np.clip(list(Nbreview_by_user.values()), 1, 10)\n",
    "fig, ax = plt.subplots(1,1)\n",
    "ax.hist(a, bins=bins, align='left', rwidth=0.7)\n",
    "plt.title(\"Reviews Distribution\")\n",
    "plt.xlabel(\"Number of Reviews\")\n",
    "plt.ylabel(\"Number of Reviewers\")"
   ]
  },
  {
   "cell_type": "code",
   "execution_count": 14,
   "metadata": {},
   "outputs": [
    {
     "name": "stdout",
     "output_type": "stream",
     "text": [
      "count    70000.00\n",
      "mean       167.25\n",
      "std        192.78\n",
      "min          0.00\n",
      "25%         42.00\n",
      "50%        101.00\n",
      "75%        218.00\n",
      "max       3505.00\n",
      "Name: N_words_reviewText, dtype: float64\n",
      "count    70000.00\n",
      "mean         4.88\n",
      "std          3.05\n",
      "min          1.00\n",
      "25%          3.00\n",
      "50%          4.00\n",
      "75%          7.00\n",
      "max         26.00\n",
      "Name: N_words_summary, dtype: float64\n"
     ]
    },
    {
     "data": {
      "text/plain": [
       "<matplotlib.text.Text at 0x167dd14e0>"
      ]
     },
     "execution_count": 14,
     "metadata": {},
     "output_type": "execute_result"
    },
    {
     "data": {
      "image/png": "[encoded data removed]",
      "text/plain": [
       "<matplotlib.figure.Figure at 0x141a3aa20>"
      ]
     },
     "metadata": {},
     "output_type": "display_data"
    }
   ],
   "source": [
    "def countWords(review):\n",
    "    return(len(review.split()))\n",
    "\n",
    "data[\"N_words_reviewText\"] = data[\"reviewText\"].astype(str).apply(countWords)\n",
    "print(data[\"N_words_reviewText\"].describe().round(2))\n",
    "data[\"N_words_summary\"] = data[\"summary\"].astype(str).apply(countWords)\n",
    "print(data[\"N_words_summary\"].describe().round(2))\n",
    "bins=range(0,430,30)\n",
    "a = list(np.clip(data[\"N_words_reviewText\"], 0, 400))\n",
    "fig, ax = plt.subplots(1,1)\n",
    "ax.hist(a, bins=bins, align='left', rwidth=0.7)\n",
    "plt.title(\"Review Length Distribution\")\n",
    "plt.xlabel(\"Review Length\")\n",
    "plt.ylabel(\"Number of Reviews\")"
   ]
  },
  {
   "cell_type": "code",
   "execution_count": 15,
   "metadata": {},
   "outputs": [
    {
     "data": {
      "text/plain": [
       "<matplotlib.text.Text at 0x156e78780>"
      ]
     },
     "execution_count": 15,
     "metadata": {},
     "output_type": "execute_result"
    },
    {
     "data": {
      "image/png": "[encoded data removed]",
      "text/plain": [
       "<matplotlib.figure.Figure at 0x17c283390>"
      ]
     },
     "metadata": {},
     "output_type": "display_data"
    }
   ],
   "source": [
    "# Create and print a Reviews length distribution graph.\n",
    "review_length_distribution_plt = pd.DataFrame(data[\"reviewText\"].str.len())\n",
    "review_length_distribution_plt = review_length_distribution_plt[review_length_distribution_plt.reviewText < 5000]\n",
    "review_length_distribution_plt.groupby([\"reviewText\"])\n",
    "review_length_distribution_plt = review_length_distribution_plt.plot(kind='hist', legend=None, bins=20, figsize=(8, 4), title=\"Review Length Distribution\")\n",
    "review_length_distribution_plt.set_xlabel(\"Review Length (Number of Characters)\")\n",
    "review_length_distribution_plt.set_ylabel(\"Count\")"
   ]
  },
  {
   "cell_type": "markdown",
   "metadata": {},
   "source": [
    "## Statistical Analysis"
   ]
  },
  {
   "cell_type": "code",
   "execution_count": 16,
   "metadata": {},
   "outputs": [
    {
     "name": "stdout",
     "output_type": "stream",
     "text": [
      "The total number of reviews is: 70000\n",
      "The total number of products is: 993\n",
      "Total number of reviewers: 33580\n",
      "That's an average of 70.5 reviews per product\n",
      "That's an average of 2.1 reviews per reviewer\n"
     ]
    }
   ],
   "source": [
    "N_reviews=len(data)\n",
    "N_products=len(set(data[\"asin\"]))\n",
    "N_reviewers=len(set(data[\"reviewerID\"]))\n",
    "print(\"The total number of reviews is: \"+str(N_reviews))\n",
    "print(\"The total number of products is: \"+str(N_products))\n",
    "print(\"Total number of reviewers: \"+str(N_reviewers))\n",
    "print(\"That's an average of \"+str(round(N_reviews/N_products,1))+ \" reviews per product\")\n",
    "print(\"That's an average of \"+str(round(N_reviews/N_reviewers,1))+ \" reviews per reviewer\")"
   ]
  },
  {
   "cell_type": "markdown",
   "metadata": {},
   "source": [
    "## Train Data and Test Data Split"
   ]
  },
  {
   "cell_type": "code",
   "execution_count": 17,
   "metadata": {},
   "outputs": [
    {
     "name": "stdout",
     "output_type": "stream",
     "text": [
      "(52500, 11) (17500, 11)\n"
     ]
    }
   ],
   "source": [
    "y = data[\"overall\"]\n",
    "X = data.drop(\"overall\",axis=1,inplace=False)\n",
    "X_train,X_test,y_train,y_test = train_test_split(X.index,y,test_size=0.25)\n",
    "df_train=pd.concat([X,y],axis=1).iloc[X_train]\n",
    "df_test=pd.concat([X,y],axis=1).iloc[X_test]\n",
    "print(df_train.shape, df_test.shape)"
   ]
  },
  {
   "cell_type": "code",
   "execution_count": 18,
   "metadata": {},
   "outputs": [
    {
     "name": "stdout",
     "output_type": "stream",
     "text": [
      "Train Data:\n",
      "  count    52500.00\n",
      "mean         4.27\n",
      "std          1.11\n",
      "min          1.00\n",
      "25%          4.00\n",
      "50%          5.00\n",
      "75%          5.00\n",
      "max          5.00\n",
      "Name: overall, dtype: float64\n",
      "\n",
      "Test Data:\n",
      "  count    17500.00\n",
      "mean         4.28\n",
      "std          1.09\n",
      "min          1.00\n",
      "25%          4.00\n",
      "50%          5.00\n",
      "75%          5.00\n",
      "max          5.00\n",
      "Name: overall, dtype: float64\n"
     ]
    },
    {
     "data": {
      "text/plain": [
       "<matplotlib.text.Text at 0x17d6d2828>"
      ]
     },
     "execution_count": 18,
     "metadata": {},
     "output_type": "execute_result"
    },
    {
     "data": {
      "image/png": "[encoded data removed]",
      "text/plain": [
       "<matplotlib.figure.Figure at 0x180991cc0>"
      ]
     },
     "metadata": {},
     "output_type": "display_data"
    }
   ],
   "source": [
    "print('Train Data:\\n ',df_train[\"overall\"].describe().round(2))\n",
    "a=[int(i) for i in df_train[\"overall\"]]\n",
    "bins=range(1,7)\n",
    "fig, (ax1,ax2) = plt.subplots(1,2)\n",
    "ax1.hist(a, bins=bins, align='left', rwidth=0.7)\n",
    "ax1.set_xticks(bins[:-1])\n",
    "plt.title(\"Rating Distribution\")\n",
    "plt.xlabel(\"Rating\")\n",
    "plt.ylabel(\"Count\")\n",
    "print('\\nTest Data:\\n ', df_test[\"overall\"].describe().round(2))\n",
    "a=[int(i) for i in df_test[\"overall\"]]\n",
    "bins=range(1,7)\n",
    "ax2.hist(a, bins=bins, align='left', rwidth=0.7)\n",
    "ax2.set_xticks(bins[:-1])\n",
    "plt.xlabel(\"Rating\")\n",
    "plt.ylabel(\"Count\")"
   ]
  },
  {
   "cell_type": "markdown",
   "metadata": {},
   "source": [
    "## Data Preprocess"
   ]
  },
  {
   "cell_type": "markdown",
   "metadata": {},
   "source": [
    "Use TfidfVectorizer"
   ]
  },
  {
   "cell_type": "code",
   "execution_count": 19,
   "metadata": {
    "collapsed": true,
    "jupyter": {
     "outputs_hidden": true
    }
   },
   "outputs": [],
   "source": [
    "vectorizer = TfidfVectorizer( min_df=2, max_df=0.95, ngram_range = (1,3), \n",
    "                             stop_words = 'english', max_features = 500 )"
   ]
  },
  {
   "cell_type": "markdown",
   "metadata": {},
   "source": [
    "## Feature from reviewText"
   ]
  },
  {
   "cell_type": "code",
   "execution_count": 20,
   "metadata": {},
   "outputs": [
    {
     "data": {
      "text/plain": [
       "(70000, 500)"
      ]
     },
     "execution_count": 20,
     "metadata": {},
     "output_type": "execute_result"
    }
   ],
   "source": [
    "# Extract features from reviewText for X\n",
    "corpus_reviewText=list(data[\"reviewText\"].astype(str))\n",
    "X_tfidf_reviewText = vectorizer.fit_transform(corpus_reviewText)\n",
    "X_tfidf_reviewText.shape"
   ]
  },
  {
   "cell_type": "markdown",
   "metadata": {},
   "source": [
    "## Feature from summary"
   ]
  },
  {
   "cell_type": "code",
   "execution_count": 21,
   "metadata": {},
   "outputs": [
    {
     "data": {
      "text/plain": [
       "(70000, 500)"
      ]
     },
     "execution_count": 21,
     "metadata": {},
     "output_type": "execute_result"
    }
   ],
   "source": [
    "# Extract features from summary for X\n",
    "corpus_summary=list(data[\"summary\"].astype(str))\n",
    "X_tfidf_summary = vectorizer.fit_transform(corpus_summary)\n",
    "X_tfidf_summary.shape"
   ]
  },
  {
   "cell_type": "code",
   "execution_count": 22,
   "metadata": {},
   "outputs": [
    {
     "name": "stdout",
     "output_type": "stream",
     "text": [
      "(70000, 2)\n"
     ]
    }
   ],
   "source": [
    "from sklearn.preprocessing import normalize\n",
    "X_countWords=normalize(data[[\"N_words_reviewText\",\"N_words_summary\"]].astype(float),axis=0)\n",
    "print(X_countWords.shape)"
   ]
  },
  {
   "cell_type": "markdown",
   "metadata": {},
   "source": [
    "## Feature from datetime"
   ]
  },
  {
   "cell_type": "code",
   "execution_count": 23,
   "metadata": {},
   "outputs": [
    {
     "data": {
      "text/plain": [
       "0    02\n",
       "1    12\n",
       "2    12\n",
       "3    02\n",
       "4    12\n",
       "Name: Month, dtype: category\n",
       "Categories (12, object): [01, 02, 03, 04, ..., 09, 10, 11, 12]"
      ]
     },
     "execution_count": 23,
     "metadata": {},
     "output_type": "execute_result"
    }
   ],
   "source": [
    "from datetime import datetime\n",
    "data[\"Month\"] = data[\"unixReviewTime\"].apply(lambda x: datetime.strftime(datetime.fromtimestamp(x),'%m')).astype('category')\n",
    "data[\"Month\"].head()"
   ]
  },
  {
   "cell_type": "code",
   "execution_count": 24,
   "metadata": {},
   "outputs": [
    {
     "data": {
      "text/plain": [
       "0    Mon\n",
       "1    Sun\n",
       "2    Sun\n",
       "3    Tue\n",
       "4    Sat\n",
       "Name: Day, dtype: category\n",
       "Categories (7, object): [Fri, Mon, Sat, Sun, Thu, Tue, Wed]"
      ]
     },
     "execution_count": 24,
     "metadata": {},
     "output_type": "execute_result"
    }
   ],
   "source": [
    "data[\"Day\"] = data[\"unixReviewTime\"].apply(lambda x: datetime.strftime(datetime.fromtimestamp(x),'%a')).astype('category')\n",
    "data[\"Day\"].head()"
   ]
  },
  {
   "cell_type": "code",
   "execution_count": 25,
   "metadata": {},
   "outputs": [
    {
     "data": {
      "text/plain": [
       "(70000, 12)"
      ]
     },
     "execution_count": 25,
     "metadata": {},
     "output_type": "execute_result"
    }
   ],
   "source": [
    "from sklearn.feature_extraction import DictVectorizer\n",
    "dic_vec = DictVectorizer()\n",
    "dic_months = pd.DataFrame(data[\"Month\"]).to_dict('records')\n",
    "X_months = dic_vec.fit_transform(dic_months)\n",
    "X_months.shape"
   ]
  },
  {
   "cell_type": "code",
   "execution_count": 26,
   "metadata": {},
   "outputs": [
    {
     "data": {
      "text/plain": [
       "(70000, 7)"
      ]
     },
     "execution_count": 26,
     "metadata": {},
     "output_type": "execute_result"
    }
   ],
   "source": [
    "dic_days = pd.DataFrame(data[\"Day\"]).to_dict('records')\n",
    "X_days = dic_vec.fit_transform(dic_days)\n",
    "X_days.shape"
   ]
  },
  {
   "cell_type": "markdown",
   "metadata": {},
   "source": [
    "## Combine Features"
   ]
  },
  {
   "cell_type": "code",
   "execution_count": 27,
   "metadata": {},
   "outputs": [
    {
     "data": {
      "text/plain": [
       "(70000, 1021)"
      ]
     },
     "execution_count": 27,
     "metadata": {},
     "output_type": "execute_result"
    }
   ],
   "source": [
    "from scipy.sparse import hstack\n",
    "all_features=hstack([X_tfidf_reviewText, X_tfidf_summary, X_countWords, X_days, X_months])\n",
    "all_features.shape"
   ]
  },
  {
   "cell_type": "code",
   "execution_count": 28,
   "metadata": {
    "collapsed": true,
    "jupyter": {
     "outputs_hidden": true
    }
   },
   "outputs": [],
   "source": [
    "# def get_most_relevant_phrases():\n",
    "#     # Convert features into an array\n",
    "#     feature_array = np.array(vectorizer.get_feature_names()) \n",
    "    \n",
    "#     # Sort features by weight.\n",
    "#     tfidf_sorting = np.argsort(review_features.toarray()).flatten()[::-1]\n",
    "    \n",
    "#     # Get the top eight most weighted features.\n",
    "#     top_n = feature_array[tfidf_sorting][:8]\n",
    "#     return top_n"
   ]
  },
  {
   "cell_type": "code",
   "execution_count": 29,
   "metadata": {
    "collapsed": true,
    "jupyter": {
     "outputs_hidden": true
    }
   },
   "outputs": [],
   "source": [
    "X_train, X_test, y_train, y_test = train_test_split( all_features, ratings, stratify=ratings,  \n",
    "                                    random_state = 0, test_size = 0.25 )"
   ]
  },
  {
   "cell_type": "code",
   "execution_count": 30,
   "metadata": {},
   "outputs": [
    {
     "data": {
      "text/plain": [
       "(52500, 1021)"
      ]
     },
     "execution_count": 30,
     "metadata": {},
     "output_type": "execute_result"
    }
   ],
   "source": [
    "X_train.shape"
   ]
  },
  {
   "cell_type": "code",
   "execution_count": 31,
   "metadata": {},
   "outputs": [
    {
     "data": {
      "text/plain": [
       "(52500,)"
      ]
     },
     "execution_count": 31,
     "metadata": {},
     "output_type": "execute_result"
    }
   ],
   "source": [
    "y_train.shape"
   ]
  },
  {
   "cell_type": "markdown",
   "metadata": {},
   "source": [
    "## Modeling\n",
    "\n",
    "Naive Bayes with multinomial model\n",
    "\n",
    "Support Vector Machine\n",
    "\n",
    "Decision Tree\n",
    "\n",
    "K Neighbors\n",
    "\n",
    "Random Forest\n",
    "\n",
    "Logistic Regression\n",
    "\n",
    "Logistic Regression CV"
   ]
  },
  {
   "cell_type": "code",
   "execution_count": 32,
   "metadata": {
    "collapsed": true,
    "jupyter": {
     "outputs_hidden": true
    }
   },
   "outputs": [],
   "source": [
    "from sklearn.naive_bayes import MultinomialNB\n",
    "nb = MultinomialNB()\n",
    "nb.fit(X_train, y_train.astype('category'))\n",
    "predicted_NaiveBayes = nb.predict(X_test)"
   ]
  },
  {
   "cell_type": "code",
   "execution_count": 33,
   "metadata": {
    "collapsed": true,
    "jupyter": {
     "outputs_hidden": true
    }
   },
   "outputs": [],
   "source": [
    "from sklearn import svm\n",
    "# clf = svm.LinearSVC()\n",
    "clf = svm.SVC()\n",
    "clf.fit(X_train, y_train.astype('category'))\n",
    "predicted_SVM = clf.predict(X_test)"
   ]
  },
  {
   "cell_type": "code",
   "execution_count": 34,
   "metadata": {
    "collapsed": true,
    "jupyter": {
     "outputs_hidden": true
    }
   },
   "outputs": [],
   "source": [
    "from sklearn.tree import DecisionTreeClassifier\n",
    "dt = DecisionTreeClassifier(random_state=0)\n",
    "dt.fit(X_train, y_train.astype('category'))\n",
    "predicted_DT = dt.predict(X_test)"
   ]
  },
  {
   "cell_type": "code",
   "execution_count": 35,
   "metadata": {
    "collapsed": true,
    "jupyter": {
     "outputs_hidden": true
    }
   },
   "outputs": [],
   "source": [
    "from sklearn.neighbors import KNeighborsClassifier\n",
    "neigh = KNeighborsClassifier(n_neighbors=5)\n",
    "neigh.fit(X_train, y_train.astype('category'))\n",
    "predicted_neigh = neigh.predict(X_test)"
   ]
  },
  {
   "cell_type": "code",
   "execution_count": 36,
   "metadata": {
    "collapsed": true,
    "jupyter": {
     "outputs_hidden": true
    }
   },
   "outputs": [],
   "source": [
    "from sklearn.ensemble import RandomForestClassifier\n",
    "rf = RandomForestClassifier(max_depth=2, random_state=0)\n",
    "rf.fit(X_train, y_train.astype('category'))\n",
    "predicted_rf = rf.predict(X_test)"
   ]
  },
  {
   "cell_type": "code",
   "execution_count": 37,
   "metadata": {
    "collapsed": true,
    "jupyter": {
     "outputs_hidden": true
    }
   },
   "outputs": [],
   "source": [
    "from sklearn.linear_model import LogisticRegression\n",
    "lg = LogisticRegression(multi_class='multinomial', solver='lbfgs')\n",
    "lg.fit(X_train, y_train.astype('category'))\n",
    "predicted_lg = lg.predict(X_test)"
   ]
  },
  {
   "cell_type": "code",
   "execution_count": 38,
   "metadata": {
    "collapsed": true,
    "jupyter": {
     "outputs_hidden": true
    }
   },
   "outputs": [],
   "source": [
    "from sklearn.linear_model import LogisticRegressionCV\n",
    "lgcv = LogisticRegressionCV(multi_class='multinomial')\n",
    "lgcv.fit(X_train, y_train.astype('category'))\n",
    "predicted_lgcv = lgcv.predict(X_test)"
   ]
  },
  {
   "cell_type": "markdown",
   "metadata": {},
   "source": [
    "## Performance Evaluation"
   ]
  },
  {
   "cell_type": "code",
   "execution_count": 39,
   "metadata": {},
   "outputs": [
    {
     "data": {
      "text/html": [
       "<div>\n",
       "<style>\n",
       "    .dataframe thead tr:only-child th {\n",
       "        text-align: right;\n",
       "    }\n",
       "\n",
       "    .dataframe thead th {\n",
       "        text-align: left;\n",
       "    }\n",
       "\n",
       "    .dataframe tbody tr th {\n",
       "        vertical-align: top;\n",
       "    }\n",
       "</style>\n",
       "<table border=\"1\" class=\"dataframe\">\n",
       "  <thead>\n",
       "    <tr style=\"text-align: right;\">\n",
       "      <th></th>\n",
       "      <th>Accuracy</th>\n",
       "    </tr>\n",
       "  </thead>\n",
       "  <tbody>\n",
       "    <tr>\n",
       "      <th>NaiveBayes</th>\n",
       "      <td>63.1%</td>\n",
       "    </tr>\n",
       "    <tr>\n",
       "      <th>SVM</th>\n",
       "      <td>64.5%</td>\n",
       "    </tr>\n",
       "    <tr>\n",
       "      <th>DecisionTree</th>\n",
       "      <td>49.8%</td>\n",
       "    </tr>\n",
       "    <tr>\n",
       "      <th>KNeighbors</th>\n",
       "      <td>51.7%</td>\n",
       "    </tr>\n",
       "    <tr>\n",
       "      <th>RandomForest</th>\n",
       "      <td>60.1%</td>\n",
       "    </tr>\n",
       "    <tr>\n",
       "      <th>LogisticRegression</th>\n",
       "      <td>64.4%</td>\n",
       "    </tr>\n",
       "    <tr>\n",
       "      <th>LogisticRegressionCV</th>\n",
       "      <td>64.4%</td>\n",
       "    </tr>\n",
       "  </tbody>\n",
       "</table>\n",
       "</div>"
      ],
      "text/plain": [
       "                     Accuracy\n",
       "NaiveBayes              63.1%\n",
       "SVM                     64.5%\n",
       "DecisionTree            49.8%\n",
       "KNeighbors              51.7%\n",
       "RandomForest            60.1%\n",
       "LogisticRegression      64.4%\n",
       "LogisticRegressionCV    64.4%"
      ]
     },
     "execution_count": 39,
     "metadata": {},
     "output_type": "execute_result"
    }
   ],
   "source": [
    "model_name =[\"NaiveBayes\",\"SVM\", 'DecisionTree', 'KNeighbors', 'RandomForest', \n",
    "           'LogisticRegression', 'LogisticRegressionCV']\n",
    "predicted = [predicted_NaiveBayes, predicted_SVM, predicted_DT, predicted_neigh,\n",
    "              predicted_rf, predicted_lg, predicted_lgcv ]\n",
    "\n",
    "def percent_round(x):\n",
    "    return(str((np.mean(x)*100).round(1))+\"%\")\n",
    "\n",
    "acc = [percent_round(x==y_test) for x in predicted]\n",
    "acc_list = {'Accuracy' : pd.Series(acc, index=model_name)}\n",
    "df_acc = pd.DataFrame(acc_list)\n",
    "df_acc"
   ]
  },
  {
   "cell_type": "code",
   "execution_count": 40,
   "metadata": {},
   "outputs": [
    {
     "name": "stdout",
     "output_type": "stream",
     "text": [
      "Naive Bayes Performance \n",
      "              precision    recall  f1-score   support\n",
      "\n",
      "        1.0       0.63      0.21      0.31       820\n",
      "        2.0       0.47      0.05      0.08       813\n",
      "        3.0       0.42      0.09      0.15      1635\n",
      "        4.0       0.43      0.16      0.24      3712\n",
      "        5.0       0.66      0.96      0.78     10520\n",
      "\n",
      "avg / total       0.58      0.63      0.55     17500\n",
      "\n",
      "SVM Performance \n",
      "              precision    recall  f1-score   support\n",
      "\n",
      "        1.0       0.54      0.37      0.44       820\n",
      "        2.0       0.38      0.06      0.11       813\n",
      "        3.0       0.41      0.13      0.19      1635\n",
      "        4.0       0.42      0.22      0.29      3712\n",
      "        5.0       0.69      0.94      0.80     10520\n",
      "\n",
      "avg / total       0.59      0.65      0.58     17500\n",
      "\n",
      "Decision Tree Performance \n",
      "              precision    recall  f1-score   support\n",
      "\n",
      "        1.0       0.19      0.18      0.18       820\n",
      "        2.0       0.08      0.08      0.08       813\n",
      "        3.0       0.16      0.16      0.16      1635\n",
      "        4.0       0.26      0.25      0.25      3712\n",
      "        5.0       0.68      0.70      0.69     10520\n",
      "\n",
      "avg / total       0.49      0.50      0.49     17500\n",
      "\n",
      "KNeighbors Performance \n",
      "              precision    recall  f1-score   support\n",
      "\n",
      "        1.0       0.12      0.10      0.11       820\n",
      "        2.0       0.10      0.05      0.06       813\n",
      "        3.0       0.17      0.12      0.14      1635\n",
      "        4.0       0.25      0.22      0.23      3712\n",
      "        5.0       0.65      0.75      0.70     10520\n",
      "\n",
      "avg / total       0.47      0.52      0.49     17500\n",
      "\n",
      "RandomForest Performance \n",
      "              precision    recall  f1-score   support\n",
      "\n",
      "        1.0       0.00      0.00      0.00       820\n",
      "        2.0       0.00      0.00      0.00       813\n",
      "        3.0       0.00      0.00      0.00      1635\n",
      "        4.0       0.00      0.00      0.00      3712\n",
      "        5.0       0.60      1.00      0.75     10520\n",
      "\n",
      "avg / total       0.36      0.60      0.45     17500\n",
      "\n",
      "LogisticRegression Performance \n",
      "              precision    recall  f1-score   support\n",
      "\n",
      "        1.0       0.54      0.38      0.44       820\n",
      "        2.0       0.32      0.13      0.18       813\n",
      "        3.0       0.38      0.19      0.25      1635\n",
      "        4.0       0.42      0.24      0.31      3712\n",
      "        5.0       0.71      0.92      0.80     10520\n",
      "\n",
      "avg / total       0.59      0.64      0.60     17500\n",
      "\n",
      "LogisticRegressionCV \n",
      "              precision    recall  f1-score   support\n",
      "\n",
      "        1.0       0.59      0.33      0.43       820\n",
      "        2.0       0.33      0.09      0.14       813\n",
      "        3.0       0.40      0.17      0.24      1635\n",
      "        4.0       0.42      0.23      0.30      3712\n",
      "        5.0       0.70      0.93      0.80     10520\n",
      "\n",
      "avg / total       0.59      0.64      0.59     17500\n",
      "\n"
     ]
    },
    {
     "name": "stderr",
     "output_type": "stream",
     "text": [
      "/Users/yuleinku/anaconda/lib/python3.6/site-packages/sklearn/metrics/classification.py:1113: UndefinedMetricWarning: Precision and F-score are ill-defined and being set to 0.0 in labels with no predicted samples.\n",
      "  'precision', 'predicted', average, warn_for)\n"
     ]
    }
   ],
   "source": [
    "print(\"Naive Bayes Performance \\n\",sklearn.metrics.classification_report(y_test, predicted_NaiveBayes))\n",
    "print(\"SVM Performance \\n\",sklearn.metrics.classification_report(y_test, predicted_SVM))\n",
    "print(\"Decision Tree Performance \\n\",sklearn.metrics.classification_report(y_test, predicted_DT))\n",
    "print(\"KNeighbors Performance \\n\",sklearn.metrics.classification_report(y_test, predicted_neigh))\n",
    "print(\"RandomForest Performance \\n\",sklearn.metrics.classification_report(y_test, predicted_rf))\n",
    "print(\"LogisticRegression Performance \\n\",sklearn.metrics.classification_report(y_test, predicted_lg))\n",
    "print(\"LogisticRegressionCV \\n\",sklearn.metrics.classification_report(y_test, predicted_lgcv))"
   ]
  },
  {
   "cell_type": "markdown",
   "metadata": {},
   "source": [
    "## Transform Multinomial to Binary Problem"
   ]
  },
  {
   "cell_type": "code",
   "execution_count": 41,
   "metadata": {
    "collapsed": true,
    "jupyter": {
     "outputs_hidden": true
    }
   },
   "outputs": [],
   "source": [
    "def bin_transformation(x):\n",
    "    if (x==5 or x==4):\n",
    "        return(\"1\")\n",
    "    else:\n",
    "        return(\"0\")\n",
    "\n",
    "y_train_bin=y_train.apply(bin_transformation).astype(\"category\")\n",
    "y_test_bin=y_test.apply(bin_transformation).astype(\"category\")"
   ]
  },
  {
   "cell_type": "code",
   "execution_count": 42,
   "metadata": {
    "collapsed": true,
    "jupyter": {
     "outputs_hidden": true
    }
   },
   "outputs": [],
   "source": [
    "nb.fit(X_train, y_train_bin)\n",
    "predicted_bin_NaiveBayes = nb.predict(X_test)\n",
    "\n",
    "clf.fit(X_train, y_train_bin)\n",
    "predicted_bin_SVM = clf.predict(X_test)\n",
    "\n",
    "dt.fit(X_train, y_train_bin)\n",
    "predicted_bin_DT = dt.predict(X_test)\n",
    "\n",
    "neigh = KNeighborsClassifier(n_neighbors=2)\n",
    "neigh.fit(X_train, y_train_bin)\n",
    "predicted_bin_neigh = neigh.predict(X_test)\n",
    "\n",
    "rf.fit(X_train, y_train_bin)\n",
    "predicted_bin_rf = rf.predict(X_test)\n",
    "\n",
    "lg.fit(X_train, y_train_bin)\n",
    "predicted_bin_lg = lg.predict(X_test)\n",
    "\n",
    "lgcv.fit(X_train, y_train_bin)\n",
    "predicted_bin_lgcv = lgcv.predict(X_test)\n"
   ]
  },
  {
   "cell_type": "markdown",
   "metadata": {},
   "source": [
    "## Now we can re-evaluate all the classifiers on our features. Note that the Precision, Recall and f1-score indicators are calculated for the '4' and '5' labels only because the problem is binary."
   ]
  },
  {
   "cell_type": "code",
   "execution_count": 43,
   "metadata": {},
   "outputs": [
    {
     "name": "stderr",
     "output_type": "stream",
     "text": [
      "/Users/yuleinku/anaconda/lib/python3.6/site-packages/sklearn/metrics/classification.py:1113: UndefinedMetricWarning: Precision and F-score are ill-defined and being set to 0.0 in labels with no predicted samples.\n",
      "  'precision', 'predicted', average, warn_for)\n"
     ]
    },
    {
     "data": {
      "text/html": [
       "<div>\n",
       "<style>\n",
       "    .dataframe thead tr:only-child th {\n",
       "        text-align: right;\n",
       "    }\n",
       "\n",
       "    .dataframe thead th {\n",
       "        text-align: left;\n",
       "    }\n",
       "\n",
       "    .dataframe tbody tr th {\n",
       "        vertical-align: top;\n",
       "    }\n",
       "</style>\n",
       "<table border=\"1\" class=\"dataframe\">\n",
       "  <thead>\n",
       "    <tr style=\"text-align: right;\">\n",
       "      <th></th>\n",
       "      <th>Accuracy</th>\n",
       "      <th>Precision</th>\n",
       "      <th>Recall</th>\n",
       "      <th>f1-score</th>\n",
       "    </tr>\n",
       "  </thead>\n",
       "  <tbody>\n",
       "    <tr>\n",
       "      <th>NaiveBayes</th>\n",
       "      <td>84.1%</td>\n",
       "      <td>84.5%</td>\n",
       "      <td>98.5%</td>\n",
       "      <td>91.0%</td>\n",
       "    </tr>\n",
       "    <tr>\n",
       "      <th>SVM</th>\n",
       "      <td>85.9%</td>\n",
       "      <td>87.4%</td>\n",
       "      <td>96.6%</td>\n",
       "      <td>91.8%</td>\n",
       "    </tr>\n",
       "    <tr>\n",
       "      <th>DecisionTree</th>\n",
       "      <td>76.4%</td>\n",
       "      <td>85.3%</td>\n",
       "      <td>85.7%</td>\n",
       "      <td>85.5%</td>\n",
       "    </tr>\n",
       "    <tr>\n",
       "      <th>KNeighbors</th>\n",
       "      <td>64.7%</td>\n",
       "      <td>85.4%</td>\n",
       "      <td>68.3%</td>\n",
       "      <td>75.9%</td>\n",
       "    </tr>\n",
       "    <tr>\n",
       "      <th>RandomForest</th>\n",
       "      <td>81.3%</td>\n",
       "      <td>81.3%</td>\n",
       "      <td>100.0%</td>\n",
       "      <td>89.7%</td>\n",
       "    </tr>\n",
       "    <tr>\n",
       "      <th>LogisticRegression</th>\n",
       "      <td>85.7%</td>\n",
       "      <td>87.7%</td>\n",
       "      <td>95.9%</td>\n",
       "      <td>91.6%</td>\n",
       "    </tr>\n",
       "    <tr>\n",
       "      <th>LogisticRegressionCV</th>\n",
       "      <td>84.1%</td>\n",
       "      <td>83.9%</td>\n",
       "      <td>99.5%</td>\n",
       "      <td>91.1%</td>\n",
       "    </tr>\n",
       "  </tbody>\n",
       "</table>\n",
       "</div>"
      ],
      "text/plain": [
       "                     Accuracy Precision  Recall f1-score\n",
       "NaiveBayes              84.1%     84.5%   98.5%    91.0%\n",
       "SVM                     85.9%     87.4%   96.6%    91.8%\n",
       "DecisionTree            76.4%     85.3%   85.7%    85.5%\n",
       "KNeighbors              64.7%     85.4%   68.3%    75.9%\n",
       "RandomForest            81.3%     81.3%  100.0%    89.7%\n",
       "LogisticRegression      85.7%     87.7%   95.9%    91.6%\n",
       "LogisticRegressionCV    84.1%     83.9%   99.5%    91.1%"
      ]
     },
     "execution_count": 43,
     "metadata": {},
     "output_type": "execute_result"
    }
   ],
   "source": [
    "predicted_bin = [predicted_bin_NaiveBayes, predicted_bin_SVM, predicted_bin_DT, predicted_bin_neigh,\n",
    "              predicted_bin_rf, predicted_bin_lg, predicted_bin_lgcv ]\n",
    "\n",
    "def percent_round1(x):\n",
    "    return(str((x*100).round(1))+ \"%\")\n",
    "\n",
    "Accuracy_bin = [percent_round1(np.mean(x==y_test_bin)) for x in predicted_bin]\n",
    "Report_bin = [sklearn.metrics.precision_recall_fscore_support(y_test_bin, x) for x in predicted_bin]\n",
    "Precision_bin = [percent_round1(x[0][1]) for x in Report_bin]\n",
    "Recall_bin = [percent_round1(x[1][1]) for x in Report_bin]\n",
    "f1score_bin = [percent_round1(x[2][1]) for x in Report_bin]\n",
    "result_bin = {'Accuracy' : pd.Series(Accuracy_bin, index=model_name),\n",
    "           'Precision' : pd.Series(Precision_bin, index=model_name),\n",
    "           'Recall' : pd.Series(Recall_bin, index=model_name),\n",
    "           'f1-score': pd.Series(f1score_bin, index=model_name),\n",
    "           }\n",
    "df_bin = pd.DataFrame(result_bin)\n",
    "df_bin"
   ]
  },
  {
   "cell_type": "code",
   "execution_count": 45,
   "metadata": {},
   "outputs": [],
   "source": [
    "nb.fit(X_train, y_train_bin)\n",
    "probas_bin_NaiveBayes = nb.predict_proba(X_test)[:,1]\n",
    "\n",
    "clf.fit(X_train, y_train_bin)\n",
    "probas_bin_SVM = nb.predict_proba(X_test)[:,1]\n",
    "\n",
    "# dt = DecisionTreeClassifier(random_state=0)\n",
    "dt.fit(X_train, y_train_bin)\n",
    "probas_bin_DT = dt.predict_proba(X_test)[:,1]\n",
    "\n",
    "# neigh = KNeighborsClassifier(n_neighbors=2)\n",
    "neigh.fit(X_train, y_train_bin)\n",
    "probas_bin_neigh = neigh.predict_proba(X_test)[:,1]\n",
    "\n",
    "# rf = RandomForestClassifier(max_depth=2, random_state=0)\n",
    "rf.fit(X_train, y_train_bin)\n",
    "probas_bin_rf = rf.predict_proba(X_test)[:,1]\n",
    "\n",
    "# lg = LogisticRegression()\n",
    "lg.fit(X_train, y_train_bin)\n",
    "probas_bin_lg = lg.predict_proba(X_test)[:,1]\n",
    "\n",
    "# lgcv = LogisticRegressionCV()\n",
    "lgcv.fit(X_train, y_train_bin)\n",
    "probas_bin_lgcv = lgcv.predict_proba(X_test)[:,1]"
   ]
  },
  {
   "cell_type": "code",
   "execution_count": 46,
   "metadata": {},
   "outputs": [
    {
     "data": {
      "text/plain": [
       "<matplotlib.legend.Legend at 0x132744f28>"
      ]
     },
     "execution_count": 46,
     "metadata": {},
     "output_type": "execute_result"
    },
    {
     "data": {
      "image/png": "[encoded data removed]",
      "text/plain": [
       "<matplotlib.figure.Figure at 0x12affc7b8>"
      ]
     },
     "metadata": {},
     "output_type": "display_data"
    }
   ],
   "source": [
    "from sklearn.metrics import roc_curve, auc\n",
    "matplotlib.rcParams['figure.figsize'] = (10, 6)\n",
    "\n",
    "probas=[probas_bin_NaiveBayes, probas_bin_SVM, probas_bin_DT, probas_bin_neigh,\n",
    "              probas_bin_rf, probas_bin_lg, probas_bin_lgcv ]\n",
    "\n",
    "fpr= [None] * len(probas)\n",
    "tpr=[None] * len(probas)\n",
    "thresholds=[None] * len(probas)\n",
    "roc_auc=[None] * len(probas)\n",
    "for i in range(len(probas)):\n",
    "    fpr[i], tpr[i], thresholds[i] = sklearn.metrics.roc_curve(y_test_bin.ravel().astype(float), probas[i], pos_label=1.0)\n",
    "    roc_auc[i]=auc(fpr[i],tpr[i])\n",
    "    plt.plot(fpr[i], tpr[i], label=model_name[i]+\" (AUC = %0.2f)\" % roc_auc[i])\n",
    "\n",
    "plt.plot([0, 1], [0, 1], 'k--')\n",
    "plt.xlim([0.0, 1.0])\n",
    "plt.ylim([0.0, 1.0])\n",
    "plt.xlabel('False Positive Rate')\n",
    "plt.ylabel('True Positive Rate')\n",
    "plt.title('ROC Curves (Receiver Operating Characteristic)')\n",
    "plt.legend(loc=\"lower right\")           "
   ]
  },
  {
   "cell_type": "markdown",
   "metadata": {},
   "source": [
    "## NB hyper-parameters Optimization for binary classification"
   ]
  },
  {
   "cell_type": "code",
   "execution_count": 47,
   "metadata": {},
   "outputs": [
    {
     "name": "stdout",
     "output_type": "stream",
     "text": [
      "alpha: 0.001\n"
     ]
    }
   ],
   "source": [
    "from sklearn import grid_search\n",
    "parameters_NB = {'alpha':list(np.linspace(0.001,10,50))}\n",
    "nb = grid_search.GridSearchCV(MultinomialNB(), parameters_NB)\n",
    "nb.fit(X_train, y_train_bin)\n",
    "\n",
    "best_parameters, score, _ = max(nb.grid_scores_, key=lambda x: x[1])\n",
    "for param_name in sorted(parameters_NB.keys()):\n",
    "    print(\"%s: %r\" % (param_name, best_parameters[param_name]))"
   ]
  },
  {
   "cell_type": "markdown",
   "metadata": {},
   "source": [
    "## SVM hyper-parameters Optimization for binary classification"
   ]
  },
  {
   "cell_type": "code",
   "execution_count": 49,
   "metadata": {},
   "outputs": [
    {
     "name": "stdout",
     "output_type": "stream",
     "text": [
      "alpha: 4.1775510204081632e-05\n",
      "loss: 'log'\n",
      "penalty: 'elasticnet'\n"
     ]
    }
   ],
   "source": [
    "parameters_SVM = {'alpha':list(np.linspace(0.000001,0.001,50)),\n",
    "                  'loss':[\"modified_huber\",\"log\"],\n",
    "                  'penalty': [\"l1\", \"l2\",\"elasticnet\"],\n",
    "                  }\n",
    "svm = grid_search.GridSearchCV(SGDClassifier(), parameters_SVM)\n",
    "svm.fit(X_train, y_train_bin)\n",
    "\n",
    "best_parameters, score, _ = max(svm.grid_scores_, key=lambda x: x[1])\n",
    "for param_name in sorted(parameters_SVM.keys()):\n",
    "    print(\"%s: %r\" % (param_name, best_parameters[param_name]))"
   ]
  },
  {
   "cell_type": "markdown",
   "metadata": {},
   "source": [
    "# Prediction on optimized models"
   ]
  },
  {
   "cell_type": "code",
   "execution_count": 50,
   "metadata": {
    "collapsed": true,
    "jupyter": {
     "outputs_hidden": true
    }
   },
   "outputs": [],
   "source": [
    "predicted_bin_NaiveBayes_optim = nb.predict(X_test)\n",
    "predicted_bin_SVM_optim = svm.predict(X_test)"
   ]
  },
  {
   "cell_type": "markdown",
   "metadata": {},
   "source": [
    "## Conclusion And Discussion"
   ]
  },
  {
   "cell_type": "code",
   "execution_count": 51,
   "metadata": {},
   "outputs": [
    {
     "name": "stderr",
     "output_type": "stream",
     "text": [
      "/Users/yuleinku/anaconda/lib/python3.6/site-packages/sklearn/metrics/classification.py:1113: UndefinedMetricWarning: Precision and F-score are ill-defined and being set to 0.0 in labels with no predicted samples.\n",
      "  'precision', 'predicted', average, warn_for)\n"
     ]
    },
    {
     "data": {
      "text/html": [
       "<div>\n",
       "<style>\n",
       "    .dataframe thead tr:only-child th {\n",
       "        text-align: right;\n",
       "    }\n",
       "\n",
       "    .dataframe thead th {\n",
       "        text-align: left;\n",
       "    }\n",
       "\n",
       "    .dataframe tbody tr th {\n",
       "        vertical-align: top;\n",
       "    }\n",
       "</style>\n",
       "<table border=\"1\" class=\"dataframe\">\n",
       "  <thead>\n",
       "    <tr style=\"text-align: right;\">\n",
       "      <th></th>\n",
       "      <th>Accuracy</th>\n",
       "      <th>Precision</th>\n",
       "      <th>Recall</th>\n",
       "      <th>f1-score</th>\n",
       "    </tr>\n",
       "  </thead>\n",
       "  <tbody>\n",
       "    <tr>\n",
       "      <th>NaiveBayes_Normal</th>\n",
       "      <td>84.1%</td>\n",
       "      <td>84.5%</td>\n",
       "      <td>98.5%</td>\n",
       "      <td>91.0%</td>\n",
       "    </tr>\n",
       "    <tr>\n",
       "      <th>NaiveBayes_Optimized</th>\n",
       "      <td>84.1%</td>\n",
       "      <td>84.6%</td>\n",
       "      <td>98.4%</td>\n",
       "      <td>91.0%</td>\n",
       "    </tr>\n",
       "    <tr>\n",
       "      <th>SVM_Normal</th>\n",
       "      <td>85.9%</td>\n",
       "      <td>87.4%</td>\n",
       "      <td>96.6%</td>\n",
       "      <td>91.8%</td>\n",
       "    </tr>\n",
       "    <tr>\n",
       "      <th>SVM_Optimized</th>\n",
       "      <td>85.7%</td>\n",
       "      <td>87.0%</td>\n",
       "      <td>96.9%</td>\n",
       "      <td>91.7%</td>\n",
       "    </tr>\n",
       "    <tr>\n",
       "      <th>DecisionTree</th>\n",
       "      <td>76.4%</td>\n",
       "      <td>85.3%</td>\n",
       "      <td>85.7%</td>\n",
       "      <td>85.5%</td>\n",
       "    </tr>\n",
       "    <tr>\n",
       "      <th>KNeighbors</th>\n",
       "      <td>64.7%</td>\n",
       "      <td>85.4%</td>\n",
       "      <td>68.3%</td>\n",
       "      <td>75.9%</td>\n",
       "    </tr>\n",
       "    <tr>\n",
       "      <th>RandomForest</th>\n",
       "      <td>81.3%</td>\n",
       "      <td>81.3%</td>\n",
       "      <td>100.0%</td>\n",
       "      <td>89.7%</td>\n",
       "    </tr>\n",
       "    <tr>\n",
       "      <th>LogisticRegression</th>\n",
       "      <td>85.7%</td>\n",
       "      <td>87.7%</td>\n",
       "      <td>95.9%</td>\n",
       "      <td>91.6%</td>\n",
       "    </tr>\n",
       "    <tr>\n",
       "      <th>LogisticRegressionCV</th>\n",
       "      <td>84.1%</td>\n",
       "      <td>83.9%</td>\n",
       "      <td>99.5%</td>\n",
       "      <td>91.1%</td>\n",
       "    </tr>\n",
       "  </tbody>\n",
       "</table>\n",
       "</div>"
      ],
      "text/plain": [
       "                     Accuracy Precision  Recall f1-score\n",
       "NaiveBayes_Normal       84.1%     84.5%   98.5%    91.0%\n",
       "NaiveBayes_Optimized    84.1%     84.6%   98.4%    91.0%\n",
       "SVM_Normal              85.9%     87.4%   96.6%    91.8%\n",
       "SVM_Optimized           85.7%     87.0%   96.9%    91.7%\n",
       "DecisionTree            76.4%     85.3%   85.7%    85.5%\n",
       "KNeighbors              64.7%     85.4%   68.3%    75.9%\n",
       "RandomForest            81.3%     81.3%  100.0%    89.7%\n",
       "LogisticRegression      85.7%     87.7%   95.9%    91.6%\n",
       "LogisticRegressionCV    84.1%     83.9%   99.5%    91.1%"
      ]
     },
     "execution_count": 51,
     "metadata": {},
     "output_type": "execute_result"
    }
   ],
   "source": [
    "index_clf=[\"NaiveBayes_Normal\",'NaiveBayes_Optimized', \"SVM_Normal\", 'SVM_Optimized',\n",
    "           'DecisionTree', 'KNeighbors', 'RandomForest', \n",
    "           'LogisticRegression', 'LogisticRegressionCV']\n",
    "predicted_clf=[predicted_bin_NaiveBayes,predicted_bin_NaiveBayes_optim, predicted_bin_SVM, \n",
    "               predicted_bin_SVM_optim, predicted_bin_DT, predicted_bin_neigh,\n",
    "              predicted_bin_rf, predicted_bin_lg, predicted_bin_lgcv ]\n",
    "\n",
    "def percent_round1(x):\n",
    "    return(str((x*100).round(1))+ \"%\")\n",
    "\n",
    "Accuracy_clf=[percent_round1(np.mean(x==y_test_bin)) for x in predicted_clf]\n",
    "Report_clf=[sklearn.metrics.precision_recall_fscore_support(y_test_bin, x) for x in predicted_clf]\n",
    "Precision_clf=[percent_round1(x[0][1]) for x in Report_clf]\n",
    "Recall_clf=[percent_round1(x[1][1]) for x in Report_clf]\n",
    "f1score_clf=[percent_round1(x[2][1]) for x in Report_clf]\n",
    "dic_clf = {'Accuracy' : pd.Series(Accuracy_clf, index=index_clf),\n",
    "           'Precision' : pd.Series(Precision_clf, index=index_clf),\n",
    "           'Recall' : pd.Series(Recall_clf, index=index_clf),\n",
    "           'f1-score': pd.Series(f1score_clf, index=index_clf),\n",
    "            }\n",
    "df_clf=pd.DataFrame(dic_clf)\n",
    "df_clf    "
   ]
  },
  {
   "cell_type": "markdown",
   "metadata": {},
   "source": [
    "# Total 9 variables\n",
    "\n",
    "4 Used:\n",
    "\n",
    "overall, reveiwText, summary, unixReviewTime\n",
    "\n",
    "2 Droped: \n",
    "\n",
    "reviewerName (missing)\n",
    "\n",
    "reviewTime (already used unixReviewTime)\n",
    "\n",
    "3 future useful: \n",
    "\n",
    "reviewerID, asin, helpful"
   ]
  },
  {
   "cell_type": "markdown",
   "metadata": {},
   "source": [
    "## Future Work"
   ]
  },
  {
   "cell_type": "markdown",
   "metadata": {},
   "source": [
    "1. Use reviewerID, asin, helpful\n",
    "2. Time Series\n",
    "3. Deep Learning (use word2vec, RNN, LSTM)"
   ]
  }
 ],
 "metadata": {
  "kernelspec": {
   "display_name": "Python 3",
   "language": "python",
   "name": "python3"
  },
  "language_info": {
   "codemirror_mode": {
    "name": "ipython",
    "version": 3
   },
   "file_extension": ".py",
   "mimetype": "text/x-python",
   "name": "python",
   "nbconvert_exporter": "python",
   "pygments_lexer": "ipython3",
   "version": "3.6.9"
  }
 },
 "nbformat": 4,
 "nbformat_minor": 4
}
